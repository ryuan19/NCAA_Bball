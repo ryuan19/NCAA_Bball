{
  "nbformat": 4,
  "nbformat_minor": 0,
  "metadata": {
    "colab": {
      "provenance": [],
      "collapsed_sections": []
    },
    "kernelspec": {
      "name": "python3",
      "display_name": "Python 3"
    }
  },
  "cells": [
    {
      "cell_type": "markdown",
      "metadata": {
        "id": "U5JUMgc_gbHp"
      },
      "source": [
        "# CS145: Project 3 | The Effects of External, Non-game Factors on NCAA Basketball Game Outcomes and Performances"
      ]
    },
    {
      "cell_type": "markdown",
      "metadata": {
        "id": "EHDiv4GrhofN"
      },
      "source": [
        "\n",
        "* *Roy Yuan\n"
      ]
    },
    {
      "cell_type": "markdown",
      "metadata": {
        "id": "gMNQWFvSgepX"
      },
      "source": [
        "## Project Overview"
      ]
    },
    {
      "cell_type": "markdown",
      "metadata": {
        "id": "lX1Jkglwg1SI"
      },
      "source": [
        "---\n",
        "We are using the ‘ncaa_basketball’ to explore how external factors affect the outcomes of games/team performance. By external factors, we mean factors which are not related to statistics derived from play on the court like points allowed, points scored, etc. We also will look into how statistics outside of the players’ control impact a game’s outcome between evenly-matched teams, which are teams with similar win-loss records (win percentages within 5% of each other). \n",
        "\n",
        "Some features we will explore in regards to their impact on game outcomes (win percentages/outcomes) are **team color**, **venue attendance**, the **venue location (home or away)**, and **average class (freshman, sophomore, junior, senior, grad student) of the players**. Additionally, we will analyze how attendance at games affects 3-point shots, one of the most impactful and focus-intensive plays belonging to the game of basketball. We hope to answer the question: **do these external factors really matter in NCAA basketball?**\n",
        "\n",
        "\n",
        "---\n"
      ]
    },
    {
      "cell_type": "markdown",
      "metadata": {
        "id": "r_GvgTCcgv6N"
      },
      "source": [
        "## Analysis of Dataset"
      ]
    },
    {
      "cell_type": "markdown",
      "metadata": {
        "id": "c6wGQ8ZPgyuJ"
      },
      "source": [
        "---\n",
        "The tables we are using are the following: mbb_games_sr, mbb_teams_games_sr, mbb_pbp_sr, mbb_teams, and team_colors. \n",
        "\n",
        "mbb_games_sr:      \n",
        "This table has 48.08 MB. At a high level, the information that this table features is team-level box scores from every men's basketball game from the 2013-14 season to the 2017-18 season. Each row displays both team’s stats for that one game played between them. The table has the team names, venue name, and outcome of the game, and using information like the team name, we can look at the other tables we are using to find relevant information about that team. \n",
        "Foreign Key: game_id, team_id\n",
        "Key: game_id, team_id\n",
        "\n",
        "mbb_teams_games_sr:\n",
        "This table has 421.03 MB. It provides statistics on players for each game from the 2013-14 season to the 2017-18 season. It has information on player class, which will be useful in our exploration into whether average team class has an effect on game outcomes/performance.\n",
        "Foreign Key: game_id, team_id\n",
        "Key: game_id, team_id\n",
        "\n",
        "mbb_pbp_sr:\n",
        "This table has 3.14 GB of data. It has play-by-play data from men's basketball games starting from the 2013-14 season. We will use this data to compute three-point make percentage in our exploration into whether attendance has an affect on three-pointer ability of teams.\n",
        "Foreign Key: game_id, team_id\n",
        "Key: game_id, team_id\n",
        "\n",
        "mbb_teams:     \n",
        "This table has 225 KB. At a high level, this table contains information about each men’s basketball team, notably league, home venue, conference, and division. When two teams are matched up against each other, we can look by team name for each team’s individual information that does not relate to statistics, and see if there is any correlation between that and the outcome of the game. \n",
        "Foreign Key: game_id, team_id\n",
        "Key: game_id, team_id\n",
        "\n",
        "team_colors:     \n",
        "This table has 23.35 KB. At a high level, this table has the hex color codes of each Division 1 basketball team. From each played game, we can see what color each of the competing teams are (from mbb_games_sr), which is one of the non-statistical factors we are looking at to see if it has an effect on the game’s outcome. A difficulty with this table is that the color codes are in hex, so we approached this by looking at a range of colors that included red (brighter red, shades like brownish red/dark maroon don't count) and manually removing some of the teams were not red. Most of the teams we removed were a yellow or tan color. \n",
        "Foreign Key: market\n",
        "Key: market\n",
        "\n",
        "----"
      ]
    },
    {
      "cell_type": "markdown",
      "metadata": {
        "id": "Fc_clta9g3H5"
      },
      "source": [
        "## Data Exploration"
      ]
    },
    {
      "cell_type": "code",
      "metadata": {
        "id": "iTYZZK-lhCV9"
      },
      "source": [
        "# Run this cell to authenticate yourself to BigQuery\n",
        "from google.colab import auth\n",
        "auth.authenticate_user()\n",
        "project_id = \"project3-334106\""
      ],
      "execution_count": null,
      "outputs": []
    },
    {
      "cell_type": "code",
      "metadata": {
        "id": "uIY7-6-thFc-"
      },
      "source": [
        "# Initialize BiqQuery client\n",
        "from google.cloud import bigquery\n",
        "client = bigquery.Client(project=project_id)"
      ],
      "execution_count": null,
      "outputs": []
    },
    {
      "cell_type": "code",
      "metadata": {
        "id": "lpgWPZ-lsYdj"
      },
      "source": [
        "import matplotlib.pyplot as plt\n",
        "\n",
        "%matplotlib inline"
      ],
      "execution_count": null,
      "outputs": []
    },
    {
      "cell_type": "code",
      "metadata": {
        "id": "Se4xiV6fsa9L"
      },
      "source": [
        "import numpy as np"
      ],
      "execution_count": null,
      "outputs": []
    },
    {
      "cell_type": "markdown",
      "metadata": {
        "id": "lxa-VPwMsrll"
      },
      "source": [
        "## Data Exploration: Game Venue"
      ]
    },
    {
      "cell_type": "markdown",
      "metadata": {
        "id": "NXhe5RyQs3CL"
      },
      "source": [
        "One of our initial questions was if game venue mattered. To tackle this, we used the following tables: `bigquery-public-data.ncaa_basketball.mbb_games_sr` and `bigquery-public-data.ncaa_basketball.mbb_teams`. Our approach was to first determine how many games each team played as the home team or the away team. \n",
        "\n",
        "To calculate win percentage, we compared columns that held scores to make anbother column called \"win\" that held a boolean value which denoted if the home team won (1 means home team won). We then did this in another separate table but this time, a present 1 value denoted that the away team won. \n",
        "\n",
        "With the number of wins and the number of total games, we could compute the percentage of wins by a certain team when they are home or away. \n",
        "\n",
        "We then created a bar graph that compared \"how many teams won a higher percentage of games at home\" and \"how many teams won a higher percentage of games at away\".  \n",
        "\n",
        "The queries include all teams, regardless of strength in matchup."
      ]
    },
    {
      "cell_type": "code",
      "metadata": {
        "id": "YQAaDfpRtLal"
      },
      "source": [
        "#@title Query for \"Total Games Played by a Team\"\n",
        "%%bigquery --project $project_id\n",
        "WITH home_gp as (\n",
        "  SELECT COUNT(sr.h_market) as home_games, teams.market\n",
        "  FROM `bigquery-public-data.ncaa_basketball.mbb_games_sr` as sr, `bigquery-public-data.ncaa_basketball.mbb_teams` as teams\n",
        "  WHERE sr.h_market = teams.market\n",
        "  GROUP BY teams.market \n",
        "), away_gp as (\n",
        "  SELECT COUNT(a_market) as away_games, teams.market\n",
        "  FROM `bigquery-public-data.ncaa_basketball.mbb_games_sr` as sr, `bigquery-public-data.ncaa_basketball.mbb_teams` as teams\n",
        "  WHERE sr.a_market = teams.market\n",
        "  GROUP BY teams.market \n",
        "), total_gp as (\n",
        "  SELECT home_games, away_games, home_games + away_games as total_games, home_gp.market\n",
        "  FROM home_gp\n",
        "  JOIN away_gp ON home_gp.market = away_gp.market\n",
        ")\n",
        "SELECT * \n",
        "FROM total_gp\n"
      ],
      "execution_count": null,
      "outputs": []
    },
    {
      "cell_type": "code",
      "metadata": {
        "cellView": "form",
        "id": "xY9F67T2tikD"
      },
      "source": [
        "#@title Query for \"Win Percentage at Home, Win Percentage at Away, and Total Win Percentage\"\n",
        "%%bigquery --project $project_id\n",
        "WITH won_home as ( # get wins and losses when team is home\n",
        "  SELECT sr.h_market as home_team, IF(sr.h_points_game > sr.a_points_game, 1, 0) as win\n",
        "  FROM `bigquery-public-data.ncaa_basketball.mbb_games_sr` as sr\n",
        "), win_h_percentage as ( # win percentage of team as away team\n",
        "  SELECT home_team, ROUND(100.0 * SUM(win) / COUNT(win), 2) as win_percent_as_home, SUM(win) as home_wins, COUNT(win) as home_played\n",
        "  FROM won_home\n",
        "  GROUP BY home_team\n",
        "  HAVING COUNT(win) > 0 #so at least 1 game played at home\n",
        "), won_away as (\n",
        "  SELECT sr.a_market as away_team, IF(sr.h_points_game < sr.a_points_game, 1, 0) as win\n",
        "  FROM `bigquery-public-data.ncaa_basketball.mbb_games_sr` as sr\n",
        "), win_a_percentage as ( # win percentage of team as away team\n",
        "  SELECT away_team, ROUND(100.0 * SUM(win) / COUNT(win), 2) as win_percent_as_away, SUM(win) as away_wins, COUNT(win) as away_played\n",
        "  FROM won_away\n",
        "  GROUP BY away_team\n",
        "  HAVING COUNT(win) > 0 #so at least 1 game played at away\n",
        "), percents as (\n",
        "  SELECT win_percent_as_home, win_percent_as_away, \n",
        "  ROUND(100.0 * (home_wins + away_wins) / (away_played + home_played), 2) as total_win_percent, home_team as team\n",
        "  FROM win_h_percentage\n",
        "  JOIN win_a_percentage ON away_team = home_team\n",
        "  WHERE win_percent_as_home > 0.0 OR win_percent_as_away > 0.0 #gets rid of teams that didn't win at all (13 rows)\n",
        ")\n",
        "SELECT *\n",
        "FROM percents"
      ],
      "execution_count": null,
      "outputs": []
    },
    {
      "cell_type": "code",
      "metadata": {
        "cellView": "form",
        "id": "fyh_Bpy_t8Rh"
      },
      "source": [
        "#@title Query for Number of Teams with a Higher Win Percentage at \"Home vs. Number of Teams with a Higher Win Percentage at Away\"\n",
        "%%bigquery --project $project_id \n",
        "WITH won_home as ( # get wins and losses when team is home\n",
        "  SELECT sr.h_market as home_team, IF(sr.h_points_game > sr.a_points_game, 1, 0) as win\n",
        "  FROM `bigquery-public-data.ncaa_basketball.mbb_games_sr` as sr\n",
        "), win_h_percentage as ( # win percentage of team as away team\n",
        "  SELECT home_team, ROUND(100.0 * SUM(win) / COUNT(win), 2) as win_percent_as_home, SUM(win) as home_wins, COUNT(win) as home_played\n",
        "  FROM won_home\n",
        "  GROUP BY home_team\n",
        "  HAVING COUNT(win) > 0 #so at least 1 game played at home\n",
        "), won_away as (\n",
        "  SELECT sr.a_market as away_team, IF(sr.h_points_game < sr.a_points_game, 1, 0) as win\n",
        "  FROM `bigquery-public-data.ncaa_basketball.mbb_games_sr` as sr\n",
        "), win_a_percentage as ( # win percentage of team as away team\n",
        "  SELECT away_team, ROUND(100.0 * SUM(win) / COUNT(win), 2) as win_percent_as_away, SUM(win) as away_wins, COUNT(win) as away_played\n",
        "  FROM won_away\n",
        "  GROUP BY away_team\n",
        "  HAVING COUNT(win) > 0 #so at least 1 game played at away\n",
        "), percents as (\n",
        "  SELECT win_percent_as_home, win_percent_as_away, \n",
        "    ROUND(100.0 * (home_wins + away_wins) / (away_played + home_played), 2) as total_win_percent, home_team as team\n",
        "  FROM win_h_percentage\n",
        "  JOIN win_a_percentage ON away_team = home_team\n",
        "  WHERE win_percent_as_home > 0.0 OR win_percent_as_away > 0.0 #gets rid of teams that didn't win at all (13 rows)\n",
        "), home_or_away_win as (\n",
        "  SELECT IF(percents.win_percent_as_home > percents.win_percent_as_away, 1, 0) as more_wins_as_home\n",
        "  FROM percents\n",
        "), more_x_wins as (\n",
        "  SELECT SUM(more_wins_as_home) as more_wins_as_home, COUNT(more_wins_as_home) - SUM(more_wins_as_home) as more_wins_as_away \n",
        "  FROM home_or_away_win\n",
        ")\n",
        "\n",
        "SELECT *\n",
        "FROM more_x_wins"
      ],
      "execution_count": null,
      "outputs": []
    },
    {
      "cell_type": "code",
      "metadata": {
        "colab": {
          "base_uri": "https://localhost:8080/",
          "height": 353
        },
        "cellView": "form",
        "id": "8hnjiQWWuTT3",
        "outputId": "1c831457-ad2e-482a-cdab-5155e7cd0dc9"
      },
      "source": [
        "#@title Plot for \"Teams with More Wins as Home vs. Teams with More Wins as Away\"\n",
        "plt.figure(figsize=(10, 5))\n",
        "x = [\"More Wins as Home\", \"More Wins as Away\"]\n",
        "y = [361, 1] #values that we saw from query up above\n",
        "plt.bar(x, y)\n",
        "plt.ylabel(\"# of Teams\")\n",
        "plt.title(\"Teams with More Wins as Home vs. Teams with More Wins as Away\")"
      ],
      "execution_count": null,
      "outputs": [
        {
          "output_type": "execute_result",
          "data": {
            "text/plain": [
              "Text(0.5, 1.0, 'Teams with More Wins as Home vs. Teams with More Wins as Away')"
            ]
          },
          "metadata": {},
          "execution_count": 8
        },
        {
          "output_type": "display_data",
          "data": {
            "image/png": "[encoded data removed]",
            "text/plain": [
              "<Figure size 720x360 with 1 Axes>"
            ]
          },
          "metadata": {
            "needs_background": "light"
          }
        }
      ]
    },
    {
      "cell_type": "markdown",
      "metadata": {
        "id": "fKrxsI2K0EWn"
      },
      "source": [
        "361 of the 362 teams won more games as the home team as opposed to the away team. Clearly, home court advantage makes a huge difference in NCAA D1 basketball. \n",
        "\n",
        "Let's look at a bit more data, specficially distribution of win percentages at home vs. distribution of win percentages at away.\n",
        "\n",
        "The y-axis shows the winning percentage of a team, and the x-axis is supposed to be a layout of all the teams, but we removed the x-tick marks to avoid the mass clutter of 362 teams."
      ]
    },
    {
      "cell_type": "code",
      "metadata": {
        "cellView": "form",
        "id": "9CoR0nPW0G_S"
      },
      "source": [
        "#@title Query for \"Away Win Loss\"\n",
        "\n",
        "%%bigquery --project $project_id a_WL\n",
        "\n",
        "WITH awayWL as (\n",
        "  SELECT teams.market as home_team, sr.h_market, sr.h_points_game, sr.a_market, sr.a_points_game, IF(sr.h_points_game < sr.a_points_game, 1, 0) as win\n",
        "  FROM `bigquery-public-data.ncaa_basketball.mbb_games_sr` as sr, `bigquery-public-data.ncaa_basketball.mbb_teams` as teams\n",
        "  WHERE sr.venue_id = teams.venue_id AND sr.h_market = teams.market # they have home team adv\n",
        "), totals as (\n",
        "  SELECT COUNT(win) as total_games, a_market\n",
        "  FROM awayWL\n",
        "  GROUP BY a_market\n",
        "), won as (\n",
        "  SELECT COUNT(win) as games_won, a_market\n",
        "  FROM awayWL\n",
        "  WHERE win = 1\n",
        "  GROUP BY a_market\n",
        "), combined as (\n",
        "  SELECT total_games, games_won, totals.a_market\n",
        "  FROM totals\n",
        "  JOIN won ON totals.a_market = won.a_market\n",
        ")\n",
        "\n",
        "SELECT *, ROUND(100.0 * games_won / total_games, 2) as away_win_percentage\n",
        "from combined\n",
        "ORDER BY away_win_percentage DESC\n"
      ],
      "execution_count": null,
      "outputs": []
    },
    {
      "cell_type": "code",
      "metadata": {
        "cellView": "form",
        "id": "kgqhBZTr0NwU"
      },
      "source": [
        "#@title Query for \"Home Win Loss\"\n",
        "%%bigquery --project $project_id home_wl\n",
        "\n",
        "WITH homeWL as (\n",
        "  SELECT teams.market as home_team, sr.h_market, sr.h_points_game, sr.a_market, sr.a_points_game, IF(sr.h_points_game > sr.a_points_game, 1, 0) as win\n",
        "  FROM `bigquery-public-data.ncaa_basketball.mbb_games_sr` as sr, `bigquery-public-data.ncaa_basketball.mbb_teams` as teams\n",
        "  WHERE sr.venue_id = teams.venue_id AND sr.h_market = teams.market # they have home team adv\n",
        "), totals as (\n",
        "  SELECT COUNT(win) as total_games, home_team\n",
        "  FROM homeWL\n",
        "  GROUP BY home_team\n",
        "), won as (\n",
        "  SELECT COUNT(win) as games_won, home_team\n",
        "  FROM homeWL\n",
        "  WHERE win = 1\n",
        "  GROUP BY home_team\n",
        "), combined as (\n",
        "  SELECT total_games, games_won, totals.home_team\n",
        "  FROM totals\n",
        "  JOIN won ON totals.home_team = won.home_team\n",
        ")\n",
        "\n",
        "SELECT *, ROUND(100.0 * games_won / total_games, 2) as home_win_percentage\n",
        "from combined\n",
        "ORDER BY home_win_percentage DESC\n",
        "\n"
      ],
      "execution_count": null,
      "outputs": []
    },
    {
      "cell_type": "code",
      "metadata": {
        "colab": {
          "base_uri": "https://localhost:8080/",
          "height": 333
        },
        "cellView": "form",
        "id": "UuWUtc_U0ZQq",
        "outputId": "af3e0516-d5a4-4666-8b15-42e28621a73b"
      },
      "source": [
        "#@title Plot for Distribution of \"Winning Percentage at Away\"\n",
        "plt.figure(figsize=(10, 5))\n",
        "plt.scatter(a_WL[\"a_market\"], a_WL[\"away_win_percentage\"])\n",
        "plt.title(\"Winning Percentage at Away\")\n",
        "plt.xlabel(\"Teams\")\n",
        "plt.ylabel(\"Winning Percentage\")\n",
        "plt.tick_params(\n",
        "    axis='x',         \n",
        "    which='both',      \n",
        "    bottom=False,      \n",
        "    top=False,         \n",
        "    labelbottom=False)"
      ],
      "execution_count": null,
      "outputs": [
        {
          "output_type": "display_data",
          "data": {
            "image/png": "[encoded data removed]",
            "text/plain": [
              "<Figure size 720x360 with 1 Axes>"
            ]
          },
          "metadata": {
            "needs_background": "light"
          }
        }
      ]
    },
    {
      "cell_type": "code",
      "metadata": {
        "colab": {
          "base_uri": "https://localhost:8080/",
          "height": 333
        },
        "cellView": "form",
        "id": "6pZlsWVo0jaB",
        "outputId": "5fadd83e-e540-440b-b931-ca6fba70fabd"
      },
      "source": [
        "#@title Plot for Distribution of \"Winning Percentage at Home\"\n",
        "plt.figure(figsize=(10, 5))\n",
        "plt.scatter(home_wl[\"home_team\"], home_wl[\"home_win_percentage\"])\n",
        "plt.title(\"Winning Percentage at Home\")\n",
        "plt.xlabel(\"Teams\")\n",
        "plt.ylabel(\"Winning Percentage\")\n",
        "plt.tick_params(\n",
        "    axis='x',         \n",
        "    which='both',      \n",
        "    bottom=False,      \n",
        "    top=False,         \n",
        "    labelbottom=False)\n",
        "\n"
      ],
      "execution_count": null,
      "outputs": [
        {
          "output_type": "display_data",
          "data": {
            "image/png": "[encoded data removed]",
            "text/plain": [
              "<Figure size 720x360 with 1 Axes>"
            ]
          },
          "metadata": {
            "needs_background": "light"
          }
        }
      ]
    },
    {
      "cell_type": "markdown",
      "metadata": {
        "id": "h376QR-9xTl5"
      },
      "source": [
        "We came into the project hypothesizing that home court advantage would make a difference, but were shocked to see how huge of a difference it made: 99.7% of teams have a higher winning percentage at home compared to winning percentage at away. \n",
        "\n",
        "Our results were further reinforced with the distribution of win percentages at home vs. distribution of win percentages at away: more teams won over 50% of games at home and more teams lost over 50% games at away.\n",
        "\n",
        "It should be noted that we did not consider if a matchup was \"evenly_matched\", a term we will define later in the data exploration. A potential hypothesis for the higher win percentage at home is because a lot of times, teams try to host more opponents they can beat compared to stronger opponents in order to attract a home crowd and to win in front of fans rooting for the home team. Additionally, players have practiced more in the facility that is the game venue when they have the home court advantage, so the home team may make more shots since these are the hoops they practice on every day. Other reasons may include the lack of a need to travel to the opponent's venue, which usually consists of a long car/plane ride and can affect performance due to sitting around too long. Essentially, we hypothesize that players are more comfortable playing in their home environment since they are familiar with it, and that weaker teams are hosted as opposed to strong ones, which means a team is more likely to win at home rather than away."
      ]
    },
    {
      "cell_type": "markdown",
      "metadata": {
        "id": "HFm3QBc4zzBW"
      },
      "source": [
        "## Data Exploration:  Evenly Matched Teams "
      ]
    },
    {
      "cell_type": "markdown",
      "metadata": {
        "id": "5Yn263KV38W7"
      },
      "source": [
        "Before we get started, let's define what an \"evenly matched\" team is. By our definition, two teams are evenly matched if their total win percentage is within 5% of each other. \n",
        "\n",
        "We want to look at even matchups because this way, we can mitigate the factor that is a huge difference in between two teams' strengths (ie. 99% win rate team vs 10% win rate team). Because two teams are evenly matched, we can consider other outside factors that are not statistic based and see how those external factors may affect the game, and if there is any sort of correlation. For this, we used the `bigquery-public-data.ncaa_basketball.mbb_games_sr` to analyze each game and calculated a team's total win rate and compared it to its opponents to determine if two teams are even matchups."
      ]
    },
    {
      "cell_type": "code",
      "metadata": {
        "cellView": "form",
        "id": "Qkh295Y739Qp"
      },
      "source": [
        "#@title Query for Games Between Evenly Matched Teams\n",
        "%%bigquery --project $project_id\n",
        "#evenly matched\n",
        "WITH won_home as ( # get wins and losses when team is home\n",
        "  SELECT sr.h_market as home_team, IF(sr.h_points_game > sr.a_points_game, 1, 0) as win\n",
        "  FROM `bigquery-public-data.ncaa_basketball.mbb_games_sr` as sr\n",
        "), win_h_percentage as ( # win percentage of team as away team\n",
        "  SELECT home_team, ROUND(100.0 * SUM(win) / COUNT(win), 2) as win_percent_as_home, SUM(win) as home_wins, COUNT(win) as home_played\n",
        "  FROM won_home\n",
        "  GROUP BY home_team\n",
        "  HAVING COUNT(win) > 0 #so at least 1 game played at home\n",
        "), won_away as (\n",
        "  SELECT sr.a_market as away_team, IF(sr.h_points_game < sr.a_points_game, 1, 0) as win\n",
        "  FROM `bigquery-public-data.ncaa_basketball.mbb_games_sr` as sr\n",
        "), win_a_percentage as ( # win percentage of team as away team\n",
        "  SELECT away_team, ROUND(100.0 * SUM(win) / COUNT(win), 2) as win_percent_as_away, SUM(win) as away_wins, COUNT(win) as away_played\n",
        "  FROM won_away\n",
        "  GROUP BY away_team\n",
        "  HAVING COUNT(win) > 0 #so at least 1 game played at away\n",
        "), percents as (\n",
        "  SELECT win_percent_as_home, win_percent_as_away, \n",
        "  ROUND(100.0 * (home_wins + away_wins) / (away_played + home_played), 2) as total_win_percent, home_team as team\n",
        "  FROM win_h_percentage\n",
        "  JOIN win_a_percentage ON away_team = home_team\n",
        "  WHERE win_percent_as_home > 0.0 OR win_percent_as_away > 0.0 #gets rid of teams that didn't win at all (13 rows)\n",
        "), percents2 as (\n",
        "  SELECT *\n",
        "  FROM percents\n",
        "), matchups as (\n",
        "  SELECT DISTINCT(game_id), sr.h_market as home, sr.a_market as away, \n",
        "    percents.total_win_percent as total_win_percent_home, percents2.total_win_percent as total_win_percent_away,\n",
        "    ABS(percents.total_win_percent - percents2.total_win_percent) as percent_diff, h_points_game, a_points_game\n",
        "  FROM percents, percents2, `bigquery-public-data.ncaa_basketball.mbb_games_sr` as sr\n",
        "  WHERE sr.h_market = percents.team AND sr.a_market = percents2.team \n",
        "    AND ABS(percents.total_win_percent - percents2.total_win_percent) < 5\n",
        ")\n",
        " \n",
        "SELECT *, IF(h_points_game > a_points_game, 1, 0) as home_won\n",
        "FROM matchups\n"
      ],
      "execution_count": null,
      "outputs": []
    },
    {
      "cell_type": "markdown",
      "metadata": {
        "id": "QwaGT7MS6AaS"
      },
      "source": [
        "## Data Exploration: Effect of Home Court Advantage in Even Matchups"
      ]
    },
    {
      "cell_type": "markdown",
      "metadata": {
        "id": "kVYIlruw6r8w"
      },
      "source": [
        "The first outside factor we want to look at is game venue, namely home court advantage. We already know that home court advantage makes a massive difference from our explorations above, but what about with teams that are evenly matched? \n",
        "\n",
        "The y-axis shows the winning percentage of a team, and the x-axis is supposed to be a layout of all the teams, but we removed the x-tick marks to avoid the mass clutter of teams.\n",
        "\n",
        "We used the `bigquery-public-data.ncaa_basketball.mbb_games_sr` table to find our results."
      ]
    },
    {
      "cell_type": "code",
      "metadata": {
        "cellView": "form",
        "id": "0DtyQk6C5poU"
      },
      "source": [
        "#@title Query for \"Win Loss % Against Evenly Matched Teams (Home and Away)\"\n",
        "#WIN LOSS % AGAINST EVENLY MATCHED TEAMS\n",
        "%%bigquery --project $project_id evm\n",
        "WITH won_home as ( # get wins and losses when team is home\n",
        "  SELECT sr.h_market as home_team, IF(sr.h_points_game > sr.a_points_game, 1, 0) as win\n",
        "  FROM `bigquery-public-data.ncaa_basketball.mbb_games_sr` as sr\n",
        "), win_h_percentage as ( # win percentage of team as away team\n",
        "  SELECT home_team, ROUND(100.0 * SUM(win) / COUNT(win), 2) as win_percent_as_home, SUM(win) as home_wins, COUNT(win) as home_played\n",
        "  FROM won_home\n",
        "  GROUP BY home_team\n",
        "  HAVING COUNT(win) > 0 #so at least 1 game played at home\n",
        "), won_away as (\n",
        "  SELECT sr.a_market as away_team, IF(sr.h_points_game < sr.a_points_game, 1, 0) as win\n",
        "  FROM `bigquery-public-data.ncaa_basketball.mbb_games_sr` as sr\n",
        "), win_a_percentage as ( # win percentage of team as away team\n",
        "  SELECT away_team, ROUND(100.0 * SUM(win) / COUNT(win), 2) as win_percent_as_away, SUM(win) as away_wins, COUNT(win) as away_played\n",
        "  FROM won_away\n",
        "  GROUP BY away_team\n",
        "  HAVING COUNT(win) > 0 #so at least 1 game played at away\n",
        "), percents as (\n",
        "  SELECT win_percent_as_home, win_percent_as_away, \n",
        "  ROUND(100.0 * (home_wins + away_wins) / (away_played + home_played), 2) as total_win_percent, home_team as team\n",
        "  FROM win_h_percentage\n",
        "  JOIN win_a_percentage ON away_team = home_team\n",
        "  WHERE win_percent_as_home > 0.0 OR win_percent_as_away > 0.0 #gets rid of teams that didn't win at all (13 rows)\n",
        "), percents2 as (\n",
        "  SELECT *\n",
        "  FROM percents\n",
        "), matchups as (\n",
        "  SELECT DISTINCT(game_id), sr.h_market as home, sr.a_market as away, \n",
        "    percents.total_win_percent as total_win_percent_home, percents2.total_win_percent as total_win_percent_away,\n",
        "    ABS(percents.total_win_percent - percents2.total_win_percent) as percent_diff, h_points_game, a_points_game\n",
        "  FROM percents, percents2, `bigquery-public-data.ncaa_basketball.mbb_games_sr` as sr\n",
        "  WHERE sr.h_market = percents.team AND sr.a_market = percents2.team \n",
        "    AND ABS(percents.total_win_percent - percents2.total_win_percent) < 5\n",
        "), matchups_score_home as (\n",
        "  SELECT *, IF(h_points_game > a_points_game, 1, 0) as home_won\n",
        "  FROM matchups\n",
        "), matchups_score_away as (\n",
        "  SELECT *, IF(h_points_game < a_points_game, 1, 0) as away_won\n",
        "  FROM matchups\n",
        "), homeRecord as (\n",
        "  SELECT matchups_score_home.home, SUM(home_won) as homeWon, COUNT(home_won) as home_played, ROUND(100.0 * SUM(home_won)/COUNT(home_won), 2) as percent_won_at_home\n",
        "  FROM matchups_score_home \n",
        "  GROUP BY matchups_score_home.home\n",
        "), awayRecord as (\n",
        "  SELECT matchups_score_away.away, SUM(away_won) as awayWon, COUNT(away_won) as away_played, \n",
        "    ROUND(100.0 * SUM(away_won)/COUNT(away_won), 2) as percent_won_at_away\n",
        "  FROM matchups_score_away \n",
        "  GROUP BY matchups_score_away.away\n",
        "), totalRecordsEvenMatched as (\n",
        "  SELECT homeRecord.home, homeRecord.percent_won_at_home, awayRecord.percent_won_at_away\n",
        "  FROM homeRecord\n",
        "  JOIN awayRecord ON homeRecord.home = awayRecord.away\n",
        ")\n",
        "SELECT *\n",
        "FROM totalRecordsEvenMatched"
      ],
      "execution_count": null,
      "outputs": []
    },
    {
      "cell_type": "code",
      "metadata": {
        "colab": {
          "base_uri": "https://localhost:8080/",
          "height": 333
        },
        "cellView": "form",
        "id": "UPrbCztc7XgB",
        "outputId": "bb5f7096-797c-40b4-9bbb-d59f8f45a7e2"
      },
      "source": [
        "#@title Plot for \"Home Team Winning Percentage Against Even Matchups\"\n",
        "plt.figure(figsize=(10, 5))\n",
        "plt.scatter(evm[\"home\"], evm[\"percent_won_at_home\"])\n",
        "plt.title(\"Home Team Winning Percentage Against Even Matchups \")\n",
        "plt.xlabel(\"Home Teams\")\n",
        "plt.ylabel(\"Winning Percentage\")\n",
        "plt.tick_params(\n",
        "    axis='x',         \n",
        "    which='both',      \n",
        "    bottom=False,      \n",
        "    top=False,         \n",
        "    labelbottom=False)"
      ],
      "execution_count": null,
      "outputs": [
        {
          "output_type": "display_data",
          "data": {
            "image/png": "[encoded data removed]",
            "text/plain": [
              "<Figure size 720x360 with 1 Axes>"
            ]
          },
          "metadata": {
            "needs_background": "light"
          }
        }
      ]
    },
    {
      "cell_type": "code",
      "metadata": {
        "colab": {
          "base_uri": "https://localhost:8080/",
          "height": 333
        },
        "cellView": "form",
        "id": "0vX8M07x7rtQ",
        "outputId": "3538e711-0c03-44a1-e0fc-dbbf94fb0fd3"
      },
      "source": [
        "#@title Plot for \"Away Team Winning Percentage Against Even Matchups\"\n",
        "plt.figure(figsize=(10, 5))\n",
        "plt.scatter(evm[\"home\"], evm[\"percent_won_at_away\"])\n",
        "plt.title(\"Away Team Winning Percentage Against Even Matchups\")\n",
        "plt.xlabel(\"Away Teams\")\n",
        "plt.ylabel(\"Winning Percentage\")\n",
        "plt.tick_params(\n",
        "    axis='x',         \n",
        "    which='both',      \n",
        "    bottom=False,      \n",
        "    top=False,         \n",
        "    labelbottom=False)"
      ],
      "execution_count": null,
      "outputs": [
        {
          "output_type": "display_data",
          "data": {
            "image/png": "[encoded data removed]",
            "text/plain": [
              "<Figure size 720x360 with 1 Axes>"
            ]
          },
          "metadata": {
            "needs_background": "light"
          }
        }
      ]
    },
    {
      "cell_type": "markdown",
      "metadata": {
        "id": "BN9S8guY8FCM"
      },
      "source": [
        "Once again, we see that even in even matchups, home court advantage is still an extremely important factor for the hypotheses whe mentioned earlier in our explorations of home court advantage. \n",
        "\n",
        "The \"Home Team Winning Percentage Against Even Matchups\" graph shows that there are more teams that win over 50% of games when they are the home team, and the \"Away Team Winning Percentage Against Even Matchups\" graph shows that there are more teams that lose over 50% of games when they are the away team.\n",
        "\n",
        "Home court advantage has proven to be a really important factor thus far."
      ]
    },
    {
      "cell_type": "markdown",
      "metadata": {
        "id": "mTRnufTG9L-c"
      },
      "source": [
        "## Data Exploration: Effect of Team Color on Game Outcome Between Evenly Matched Teams"
      ]
    },
    {
      "cell_type": "markdown",
      "metadata": {
        "id": "v5bOwnHg9Orp"
      },
      "source": [
        "We wanted to look at if team wearing specific colors, specifically the color red, has an effect on if that team wins or loses. In the past, there have been studies that show a team wearing the color red has a more likely chance of winning. \n",
        "(Source: https://www.nytimes.com/2005/05/19/science/research-finds-that-red-is-for-winners.html)\n",
        "\n",
        "However, while there was an actual study on this that showed a correlation between winning and wearing red, a lot of other researchers have called the findings \"absolute rubbish\" since there are way too many individual factors that prevent color from being decisive (ie. maybe the star player only got 7 hours of sleep instead of 8, etc).\n",
        "\n",
        "We hypothesize that there is a belief in teams winning more when wearing red because red subconsciously boosts the player's confidence as it is not only bright, but symbolically associated with strength and power.\n",
        "(Source: https://www.inc.com/john-boitnott/science-says-wearing-this-color-will-increase-your-odds-of-beating-competition.html)\n",
        "\n",
        "To look into this phenomenon, we first need to define \"red\". Our definition of red includes shades of red that tend to fall on the lighter side. A browner red or darker maroon, for example, would not qualify. The hex color range was from '#8f2532' AND '#e51937', where most teams with codes in between this range are shades of red within our criteria with a few exceptions that we manually removed. The manually removed teams usually had colors of some tan/beige/yellow shade. \n",
        "\n",
        "Again, we want only even matchups to migitate the effect of a huge difference in the strength of 2 teams. \n",
        "\n",
        "Using the `bigquery-public-data.ncaa_basketball.mbb_games_sr` and `bigquery-public-data.ncaa_basketball.team_colors` tables, we look at the percentage of wins by teams wearing red when they are the home team and when they are the away team in even matchups. "
      ]
    },
    {
      "cell_type": "code",
      "metadata": {
        "id": "VVe8H3gD9BeL"
      },
      "source": [
        "#@title Query of \"Red Teams Win Percentage at Home and Away\"\n",
        "%%bigquery --project $project_id red_color\n",
        "#red defined as a lighter shade of red, a brownish maroon shade would not count. #8f2532 is the cutoff, orange-ish red counts \n",
        "#evenly matched\n",
        "WITH won_home as ( # get wins and losses when team is home\n",
        "  SELECT sr.h_market as home_team, IF(sr.h_points_game > sr.a_points_game, 1, 0) as win\n",
        "  FROM `bigquery-public-data.ncaa_basketball.mbb_games_sr` as sr\n",
        "), win_h_percentage as ( # win percentage of team as away team\n",
        "  SELECT home_team, ROUND(100.0 * SUM(win) / COUNT(win), 2) as win_percent_as_home, SUM(win) as home_wins, COUNT(win) as home_played\n",
        "  FROM won_home\n",
        "  GROUP BY home_team\n",
        "  HAVING COUNT(win) > 0 #so at least 1 game played at home\n",
        "), won_away as (\n",
        "  SELECT sr.a_market as away_team, IF(sr.h_points_game < sr.a_points_game, 1, 0) as win\n",
        "  FROM `bigquery-public-data.ncaa_basketball.mbb_games_sr` as sr\n",
        "), win_a_percentage as ( # win percentage of team as away team\n",
        "  SELECT away_team, ROUND(100.0 * SUM(win) / COUNT(win), 2) as win_percent_as_away, SUM(win) as away_wins, COUNT(win) as away_played\n",
        "  FROM won_away\n",
        "  GROUP BY away_team\n",
        "  HAVING COUNT(win) > 0 #so at least 1 game played at away\n",
        "), percents as (\n",
        "  SELECT win_percent_as_home, win_percent_as_away, \n",
        "  ROUND(100.0 * (home_wins + away_wins) / (away_played + home_played), 2) as total_win_percent, home_team as team\n",
        "  FROM win_h_percentage\n",
        "  JOIN win_a_percentage ON away_team = home_team\n",
        "  WHERE win_percent_as_home > 0.0 OR win_percent_as_away > 0.0 #gets rid of teams that didn't win at all (13 rows)\n",
        "), percents2 as (\n",
        "  SELECT *\n",
        "  FROM percents\n",
        "), matchups as (\n",
        "  SELECT DISTINCT(game_id), sr.h_market as home, sr.a_market as away, \n",
        "    percents.total_win_percent as total_win_percent_home, percents2.total_win_percent as total_win_percent_away,\n",
        "    ABS(percents.total_win_percent - percents2.total_win_percent) as percent_diff, h_points_game, a_points_game\n",
        "  FROM percents, percents2, `bigquery-public-data.ncaa_basketball.mbb_games_sr` as sr\n",
        "  WHERE sr.h_market = percents.team AND sr.a_market = percents2.team \n",
        "    AND ABS(percents.total_win_percent - percents2.total_win_percent) < 5\n",
        "), matchups_score as (\n",
        "  SELECT *, IF(h_points_game > a_points_game, 1, 0) as home_won\n",
        "  FROM matchups\n",
        "), red as (\n",
        "  SELECT *\n",
        "  FROM `bigquery-public-data.ncaa_basketball.team_colors`\n",
        "  WHERE color BETWEEN '#8f2532' AND '#e51937'\n",
        "    AND market NOT IN ('Brown', 'Oakland', 'Texas', 'Missouri', 'Clemson', \"Oklahoma State\", 'Bryant', 'Loyola (MD)', 'Quinnipiac',\n",
        "    'Georgia Tech','Idaho','UCF','Denver','UMBC','Grambling State','Oral Roberts','Army','Appalachian State','Towson','Tennessee Tech',\n",
        "    'IUPUI','UMKC','UC Riverside') #manually found teams in the designated red color code region that were not red (mostly yellow and brownish colors)\n",
        "), home_red_win_percent as (\n",
        "  SELECT red.market, red.color, ROUND(100.0 * SUM(matchups_score.home_won) / COUNT(matchups_score.home_won),2) as percent_won_as_redhome\n",
        "  FROM red, matchups_score\n",
        "  WHERE red.market = matchups_score.home\n",
        "  GROUP BY red.market, red.color\n",
        "), away_red_win_percent as (\n",
        "  SELECT red.market, red.color, 100 - ROUND(100.0 * SUM(matchups_score.home_won) / COUNT(matchups_score.home_won),2) as percent_won_as_redaway\n",
        "  FROM red, matchups_score\n",
        "  WHERE red.market = matchups_score.away\n",
        "  GROUP BY red.market, red.color\n",
        "), red_win_percents as (\n",
        "  SELECT home_red_win_percent.market, home_red_win_percent.color, home_red_win_percent.percent_won_as_redhome, away_red_win_percent.percent_won_as_redaway\n",
        "  FROM home_red_win_percent\n",
        "  JOIN away_red_win_percent ON home_red_win_percent.market = away_red_win_percent.market\n",
        ")\n",
        "\n",
        "SELECT * \n",
        "FROM red_win_percents\n"
      ],
      "execution_count": null,
      "outputs": []
    },
    {
      "cell_type": "code",
      "metadata": {
        "colab": {
          "base_uri": "https://localhost:8080/",
          "height": 333
        },
        "id": "F475jIjkC17M",
        "outputId": "8ab27e4b-98b8-4f97-9e9b-8fbe6ff38d0f"
      },
      "source": [
        "#@title Plot for \"Red Teams Home Winning Percentage Against Evenly Matched Teams\"\n",
        "plt.figure(figsize=(10, 5))\n",
        "plt.scatter(red_color[\"market\"], red_color[\"percent_won_as_redhome\"])\n",
        "plt.title(\"Red Teams Home Winning Percentage Against Evenly Matched Teams\")\n",
        "plt.xlabel(\"Teams\")\n",
        "plt.ylabel(\"Home Winning Percentage\")\n",
        "plt.tick_params(\n",
        "    axis='x',         \n",
        "    which='both',      \n",
        "    bottom=False,      \n",
        "    top=False,         \n",
        "    labelbottom=False)"
      ],
      "execution_count": null,
      "outputs": [
        {
          "output_type": "display_data",
          "data": {
            "image/png": "[encoded data removed]",
            "text/plain": [
              "<Figure size 720x360 with 1 Axes>"
            ]
          },
          "metadata": {
            "needs_background": "light"
          }
        }
      ]
    },
    {
      "cell_type": "code",
      "metadata": {
        "colab": {
          "base_uri": "https://localhost:8080/",
          "height": 333
        },
        "id": "QA_6kwAzC2IO",
        "outputId": "ac27da2e-4188-452d-ecbe-6f883f203eba"
      },
      "source": [
        "#@title Plot for \"Red Teams Away Winning Percentage Against Evenly Matched Teams\"\n",
        "plt.figure(figsize=(10, 5))\n",
        "plt.scatter(red_color[\"market\"], red_color[\"percent_won_as_redaway\"])\n",
        "plt.title(\"Red Teams Away Winning Percentage Against Evenly Matched Teams\")\n",
        "plt.xlabel(\"Teams\")\n",
        "plt.ylabel(\"Away Winning Percentage\")\n",
        "plt.tick_params(\n",
        "    axis='x',         \n",
        "    which='both',      \n",
        "    bottom=False,      \n",
        "    top=False,         \n",
        "    labelbottom=False)"
      ],
      "execution_count": null,
      "outputs": [
        {
          "output_type": "display_data",
          "data": {
            "image/png": "[encoded data removed]",
            "text/plain": [
              "<Figure size 720x360 with 1 Axes>"
            ]
          },
          "metadata": {
            "needs_background": "light"
          }
        }
      ]
    },
    {
      "cell_type": "markdown",
      "metadata": {
        "id": "fqhlBzsGDfXZ"
      },
      "source": [
        "Looking at the data, we see that more red teams win over than 50% of games at home whereas more red teams lose over 50% of games at away. From these findings, we can probably draw that the team's color is not a game changing factor as the plot distributions in this exploration look similar to other explorations above.\n",
        "\n",
        "We hypothesize red not being a huge contributor in game outcome just simply because there are way more other individual tangible factors that can affect a game's outcome (ie. team's star player's pregame meal was overcooked which led to a below average performance, etc). \n",
        "\n",
        "Additionally, we hypothesized that red may subconsiously boost one's confidence to play better due to the associations that come with the color. However, on the topic of the subconciousness, we believe that this psychological effect is not limited to just the color red. For example, if a player's favorite color is green, he/she may be more confident sporting that color and thus lead to more confidence on the court leading to a better game. Red is also not the only color associated with winning, as the NCAA shows that there are many other color combos such as ones involving blue that have a higher winning percentage. \n",
        "(Source: http://wearefanatics.com/march-madness-color-analysis/)\n",
        "\n",
        "Because of all these findings and conclusions, it is safe to say that even amongst evenly matched teams, a team's color does not matter all that much whereas the home court advantage still does."
      ]
    },
    {
      "cell_type": "markdown",
      "metadata": {
        "id": "Pm9bo_PyP8MR"
      },
      "source": [
        "## Data Exploration: Effect of Average Class On Game Outcomes\n",
        "\n",
        "\n"
      ]
    },
    {
      "cell_type": "markdown",
      "metadata": {
        "id": "I30dAw1vQM4Q"
      },
      "source": [
        "One of our questions we hoped to answer was how the average class of a player on a team impacts the outcome of games. This question will be interesting to explore because on one hand, many of the most talented players are freshman phenoms like Zion Wiliamson was but, on the other hand, experience comes with age. To answer this question, we will use the `bigquery-public-data.ncaa_basketball.mbb_players_games_sr` dataset, which has information on the class of each player on each team that we will use to calculate the average class for each team. We will then use the win percentages of each team (we calculated this earlier) to get a complete set of data with which we can compare average class of player and win percentage.\n",
        "\n",
        "For this exporation, we will not be comparing restricting ourselves to even matchups since we want to see if significant differences in team records can be attributed to differences in class/age."
      ]
    },
    {
      "cell_type": "code",
      "metadata": {
        "id": "tCdy6KCLUsOn"
      },
      "source": [
        "#@title Query of \"Average Class of Team and Team Winning Percentage\"\n",
        "%%bigquery --project $project_id avg_class_win_percent\n",
        "\n",
        "WITH won_home as (SELECT sr.h_market as home_team, IF(sr.h_points_game > sr.a_points_game, 1, 0) as win FROM `bigquery-public-data.ncaa_basketball.mbb_games_sr` as sr), win_h_percentage as (SELECT home_team, ROUND(100.0 * SUM(win) / COUNT(win), 2) as win_percent_as_home, SUM(win) as home_wins, COUNT(win) as home_played FROM won_home GROUP BY home_team HAVING COUNT(win) > 0), won_away as (SELECT sr.a_market as away_team, IF(sr.h_points_game < sr.a_points_game, 1, 0) as win FROM `bigquery-public-data.ncaa_basketball.mbb_games_sr` as sr), win_a_percentage as (SELECT away_team, ROUND(100.0 * SUM(win) / COUNT(win), 2) as win_percent_as_away, SUM(win) as away_wins, COUNT(win) as away_played FROM won_away GROUP BY away_team HAVING COUNT(win) > 0 ), percents as ( SELECT win_percent_as_home, win_percent_as_away,  ROUND(100.0 * (home_wins + away_wins) / (away_played + home_played), 2) as total_win_percent, home_team as team FROM win_h_percentage JOIN win_a_percentage ON away_team = home_team WHERE win_percent_as_home > 0.0 OR win_percent_as_away > 0.0)\n",
        ", table1 AS (\n",
        "  SELECT\n",
        "    first_name,\n",
        "    last_name,\n",
        "    team_market,\n",
        "    CASE\n",
        "      WHEN class='FR' THEN 0\n",
        "      WHEN class='SO' THEN 1\n",
        "      WHEN class='JR' THEN 2 \n",
        "      WHEN class='SR' THEN 3\n",
        "      WHEN class='GR' THEN 4\n",
        "      ELSE NULL\n",
        "    END AS class\n",
        "  FROM\n",
        "    `bigquery-public-data.ncaa_basketball.mbb_players_games_sr`\n",
        "  GROUP BY\n",
        "    first_name,\n",
        "    last_name,\n",
        "    team_market,\n",
        "    class),\n",
        "class_avgs AS (SELECT\n",
        "  team_market, AVG(class) as avg_class\n",
        "FROM\n",
        "  (SELECT * FROM table1 WHERE class IS NOT NULL)\n",
        "GROUP BY \n",
        "  team_market),\n",
        "class_and_percents AS (SELECT team_market, avg_class, total_win_percent FROM class_avgs JOIN percents ON percents.team = class_avgs.team_market)\n",
        "SELECT * FROM class_and_percents\n"
      ],
      "execution_count": null,
      "outputs": []
    },
    {
      "cell_type": "code",
      "metadata": {
        "colab": {
          "base_uri": "https://localhost:8080/",
          "height": 330
        },
        "id": "1AsJFdJKVSMa",
        "outputId": "51adc42d-f97a-4054-ec42-7d27e17f87dd"
      },
      "source": [
        "#@title Plot for \"Average Class of Team and Team Winning Percentage\"\n",
        "plt.figure()\n",
        "plt.scatter(avg_class_win_percent[\"avg_class\"], avg_class_win_percent[\"total_win_percent\"])\n",
        "plt.title(\"Average Class of Player vs. Team Win Percentage\")\n",
        "plt.xlabel(\"Average Class of Player\")\n",
        "plt.ylabel(\"Team Win Percentage\")\n",
        "print(\"Correlation Coefficient:\\n\" + str((np.corrcoef(avg_class_win_percent[\"avg_class\"], avg_class_win_percent[\"total_win_percent\"])[0][1])))"
      ],
      "execution_count": null,
      "outputs": [
        {
          "output_type": "stream",
          "name": "stdout",
          "text": [
            "Correlation Coefficient:\n",
            "-0.13357586961520831\n"
          ]
        },
        {
          "output_type": "display_data",
          "data": {
            "image/png": "[encoded data removed]",
            "text/plain": [
              "<Figure size 432x288 with 1 Axes>"
            ]
          },
          "metadata": {
            "needs_background": "light"
          }
        }
      ]
    },
    {
      "cell_type": "markdown",
      "metadata": {
        "id": "nWIxc0IZVjqG"
      },
      "source": [
        "In the above graph, it's hard to see a strong correlation between the average class of a team and team win percentage. It's likely the case that average class isn't a significant factor in determining win percentage (team performance/game outcomes). However, using numpy, we can see that there is a small negative correlation between team win percentage and the average class of a player (-0.13). This could imply that younger teams may often outperform their older counterparts, and that average class has at least some weight in determining game outcomes. One reason for this could be the existence of many freshman phenoms who then leave to the NBA after one year, like mentioned above. Nonetheless, more research would be helpful. "
      ]
    },
    {
      "cell_type": "markdown",
      "metadata": {
        "id": "DXQugVwBXFP_"
      },
      "source": [
        "## Data Exploration: Effect of Attendance on Game Outcomes"
      ]
    },
    {
      "cell_type": "markdown",
      "metadata": {
        "id": "fama9zlAXxrX"
      },
      "source": [
        "A final factor we wanted to explore was how attendance of games, both in home and away games, would affect team performance/game outcomes. We hypothesize that the size of the crowd could have significant effects on the psyches of players, and would especially help home teams perform better.\n",
        "\n",
        "For all matchups, we will look at how attendance at home affects the home team's performance and, conversely, how attendence at the opponent's venue affects the away team's performance. Then, we will restrict ourselves to even matchups, and look at the same two metrics. To do so, we will find average attendance using `bigquery-public-data.ncaa_basketball.mbb_teams_games_sr` and get win percentage at home/away from our earlier explorations.\n",
        "\n"
      ]
    },
    {
      "cell_type": "code",
      "metadata": {
        "id": "8wDWT0urdRej"
      },
      "source": [
        "#@title Query for \"Home Attendance Effect on Home Team (All Matchups)\"\n",
        "%%bigquery --project $project_id home_team_attendance_wins_all\n",
        "WITH home_teams_attendance AS (SELECT market as home_team, avg(attendance) as avg_attendance FROM `bigquery-public-data.ncaa_basketball.mbb_teams_games_sr` WHERE neutral_site IS NULL AND attendance IS NOT NULL AND home_team=true GROUP BY home_team),\n",
        "won_home as ( # get wins and losses when team is home\n",
        "  SELECT sr.h_market as home_team, IF(sr.h_points_game > sr.a_points_game, 1, 0) as win\n",
        "  FROM `bigquery-public-data.ncaa_basketball.mbb_games_sr` as sr\n",
        "), win_h_percentage as ( # win percentage of team as away team\n",
        "  SELECT home_team, ROUND(100.0 * SUM(win) / COUNT(win), 2) as win_percent_as_home, SUM(win) as home_wins, COUNT(win) as home_played\n",
        "  FROM won_home\n",
        "  GROUP BY home_team\n",
        "  HAVING COUNT(win) > 0 #so at least 1 game played at home\n",
        "), won_away as (\n",
        "  SELECT sr.a_market as away_team, IF(sr.h_points_game < sr.a_points_game, 1, 0) as win\n",
        "  FROM `bigquery-public-data.ncaa_basketball.mbb_games_sr` as sr\n",
        "), win_a_percentage as ( # win percentage of team as away team\n",
        "  SELECT away_team, ROUND(100.0 * SUM(win) / COUNT(win), 2) as win_percent_as_away, SUM(win) as away_wins, COUNT(win) as away_played\n",
        "  FROM won_away\n",
        "  GROUP BY away_team\n",
        "  HAVING COUNT(win) > 0 #so at least 1 game played at away\n",
        "), percents as (\n",
        "  SELECT win_percent_as_home, win_percent_as_away, \n",
        "  ROUND(100.0 * (home_wins + away_wins) / (away_played + home_played), 2) as total_win_percent, home_team as team\n",
        "  FROM win_h_percentage\n",
        "  JOIN win_a_percentage ON away_team = home_team\n",
        "  WHERE win_percent_as_home > 0.0 OR win_percent_as_away > 0.0 #gets rid of teams that didn't win at all (13 rows)\n",
        ")\n",
        "SELECT avg_attendance, win_percent_as_home FROM home_teams_attendance JOIN percents ON percents.team = home_teams_attendance.home_team"
      ],
      "execution_count": null,
      "outputs": []
    },
    {
      "cell_type": "code",
      "metadata": {
        "colab": {
          "base_uri": "https://localhost:8080/",
          "height": 330
        },
        "id": "BtTXntJpdf0H",
        "outputId": "fb6b9551-2735-4118-d6e7-2e3daa1d24d6"
      },
      "source": [
        "#@title Plot for \"Home Attendance Effect on Home Team (All Matchups)\"\n",
        "plt.figure()\n",
        "plt.scatter(home_team_attendance_wins_all[\"avg_attendance\"], home_team_attendance_wins_all[\"win_percent_as_home\"])\n",
        "plt.title(\"Effect of average attendance on home winning percentage at home\")\n",
        "plt.xlabel(\"Average Attendance\")\n",
        "plt.ylabel(\"Winning Percentage At Home\")\n",
        "print(\"Correlation Coefficient:\\n\" + str((np.corrcoef(home_team_attendance_wins_all[\"avg_attendance\"], home_team_attendance_wins_all[\"win_percent_as_home\"])[1][0])))"
      ],
      "execution_count": null,
      "outputs": [
        {
          "output_type": "stream",
          "name": "stdout",
          "text": [
            "Correlation Coefficient:\n",
            "0.4777113111241382\n"
          ]
        },
        {
          "output_type": "display_data",
          "data": {
            "image/png": "[encoded data removed]",
            "text/plain": [
              "<Figure size 432x288 with 1 Axes>"
            ]
          },
          "metadata": {
            "needs_background": "light"
          }
        }
      ]
    },
    {
      "cell_type": "code",
      "metadata": {
        "id": "E4MD-tuzdqWN"
      },
      "source": [
        "#@title Query for \"Home Attendance Effect on Away Team (All Matchups)\"\n",
        "%%bigquery --project $project_id away_team_attendance_wins_all\n",
        "WITH away_teams_attendance AS (SELECT market as away_team, avg(attendance) as avg_attendance FROM `bigquery-public-data.ncaa_basketball.mbb_teams_games_sr` WHERE neutral_site IS NULL AND attendance IS NOT NULL AND home_team=false GROUP BY away_team),\n",
        "won_home as ( # get wins and losses when team is home\n",
        "  SELECT sr.h_market as home_team, IF(sr.h_points_game > sr.a_points_game, 1, 0) as win\n",
        "  FROM `bigquery-public-data.ncaa_basketball.mbb_games_sr` as sr\n",
        "), win_h_percentage as ( # win percentage of team as away team\n",
        "  SELECT home_team, ROUND(100.0 * SUM(win) / COUNT(win), 2) as win_percent_as_home, SUM(win) as home_wins, COUNT(win) as home_played\n",
        "  FROM won_home\n",
        "  GROUP BY home_team\n",
        "  HAVING COUNT(win) > 0 #so at least 1 game played at home\n",
        "), won_away as (\n",
        "  SELECT sr.a_market as away_team, IF(sr.h_points_game < sr.a_points_game, 1, 0) as win\n",
        "  FROM `bigquery-public-data.ncaa_basketball.mbb_games_sr` as sr\n",
        "), win_a_percentage as ( # win percentage of team as away team\n",
        "  SELECT away_team, ROUND(100.0 * SUM(win) / COUNT(win), 2) as win_percent_as_away, SUM(win) as away_wins, COUNT(win) as away_played\n",
        "  FROM won_away\n",
        "  GROUP BY away_team\n",
        "  HAVING COUNT(win) > 0 #so at least 1 game played at away\n",
        "), percents as (\n",
        "  SELECT win_percent_as_home, win_percent_as_away, \n",
        "  ROUND(100.0 * (home_wins + away_wins) / (away_played + home_played), 2) as total_win_percent, home_team as team\n",
        "  FROM win_h_percentage\n",
        "  JOIN win_a_percentage ON away_team = home_team\n",
        "  WHERE win_percent_as_home > 0.0 OR win_percent_as_away > 0.0 #gets rid of teams that didn't win at all (13 rows)\n",
        ")\n",
        "SELECT avg_attendance, win_percent_as_away FROM away_teams_attendance JOIN percents ON percents.team = away_teams_attendance.away_team"
      ],
      "execution_count": null,
      "outputs": []
    },
    {
      "cell_type": "code",
      "metadata": {
        "colab": {
          "base_uri": "https://localhost:8080/",
          "height": 330
        },
        "id": "7E9UmUU-d33v",
        "outputId": "caf561a2-c045-46d4-cb89-3694d6b78b6d"
      },
      "source": [
        "#@title Plot for \"Home Attendance Effect on Away Team (All Matchups)\"\n",
        "plt.figure()\n",
        "plt.scatter(away_team_attendance_wins_all[\"avg_attendance\"], away_team_attendance_wins_all[\"win_percent_as_away\"])\n",
        "plt.title(\"Effect of average attendance at opponent stadium on away win percentage\")\n",
        "plt.xlabel(\"Average Attendance\")\n",
        "plt.ylabel(\"Winning Percentage At Away\")\n",
        "print(\"Correlation Coefficient:\\n\" + str((np.corrcoef(away_team_attendance_wins_all[\"avg_attendance\"], away_team_attendance_wins_all[\"win_percent_as_away\"])[1][0])))"
      ],
      "execution_count": null,
      "outputs": [
        {
          "output_type": "stream",
          "name": "stdout",
          "text": [
            "Correlation Coefficient:\n",
            "0.325926484853903\n"
          ]
        },
        {
          "output_type": "display_data",
          "data": {
            "image/png": "[encoded data removed]",
            "text/plain": [
              "<Figure size 432x288 with 1 Axes>"
            ]
          },
          "metadata": {
            "needs_background": "light"
          }
        }
      ]
    },
    {
      "cell_type": "code",
      "metadata": {
        "id": "0Dbp3zyieCD2"
      },
      "source": [
        "#@title Query for \"Home Attendance Effect on Home Team (Even Matchups)\"\n",
        "#WIN LOSS % AGAINST EVENLY MATCHED TEAMS\n",
        "%%bigquery --project $project_id attendance_evenly_matched\n",
        "WITH won_home as ( # get wins and losses when team is home\n",
        "  SELECT sr.h_market as home_team, IF(sr.h_points_game > sr.a_points_game, 1, 0) as win\n",
        "  FROM `bigquery-public-data.ncaa_basketball.mbb_games_sr` as sr\n",
        "), win_h_percentage as ( # win percentage of team as away team\n",
        "  SELECT home_team, ROUND(100.0 * SUM(win) / COUNT(win), 2) as win_percent_as_home, SUM(win) as home_wins, COUNT(win) as home_played\n",
        "  FROM won_home\n",
        "  GROUP BY home_team\n",
        "  HAVING COUNT(win) > 0 #so at least 1 game played at home\n",
        "), won_away as (\n",
        "  SELECT sr.a_market as away_team, IF(sr.h_points_game < sr.a_points_game, 1, 0) as win\n",
        "  FROM `bigquery-public-data.ncaa_basketball.mbb_games_sr` as sr\n",
        "), win_a_percentage as ( # win percentage of team as away team\n",
        "  SELECT away_team, ROUND(100.0 * SUM(win) / COUNT(win), 2) as win_percent_as_away, SUM(win) as away_wins, COUNT(win) as away_played\n",
        "  FROM won_away\n",
        "  GROUP BY away_team\n",
        "  HAVING COUNT(win) > 0 #so at least 1 game played at away\n",
        "), percents as (\n",
        "  SELECT win_percent_as_home, win_percent_as_away,\n",
        "  ROUND(100.0 * (home_wins + away_wins) / (away_played + home_played), 2) as total_win_percent, home_team as team\n",
        "  FROM win_h_percentage\n",
        "  JOIN win_a_percentage ON away_team = home_team\n",
        "  WHERE win_percent_as_home > 0.0 OR win_percent_as_away > 0.0 #gets rid of teams that didn't win at all (13 rows)\n",
        "), percents2 as (\n",
        "  SELECT *\n",
        "  FROM percents\n",
        "), matchups as (\n",
        "  SELECT DISTINCT(game_id), sr.h_market as home, sr.a_market as away,\n",
        "    percents.total_win_percent as total_win_percent_home, percents2.total_win_percent as total_win_percent_away,\n",
        "    ABS(percents.total_win_percent - percents2.total_win_percent) as percent_diff, h_points_game, a_points_game\n",
        "  FROM percents, percents2, `bigquery-public-data.ncaa_basketball.mbb_games_sr` as sr\n",
        "  WHERE sr.h_market = percents.team AND sr.a_market = percents2.team\n",
        "    AND ABS(percents.total_win_percent - percents2.total_win_percent) < 5\n",
        "), matchups_score_home as (\n",
        "  SELECT *, IF(h_points_game > a_points_game, 1, 0) as home_won\n",
        "  FROM matchups\n",
        "), matchups_score_away as (\n",
        "  SELECT *, IF(h_points_game < a_points_game, 1, 0) as away_won\n",
        "  FROM matchups\n",
        "), homeRecord as (\n",
        "  SELECT matchups_score_home.home, SUM(home_won) as homeWon, COUNT(home_won) as home_played, ROUND(100.0 * SUM(home_won)/COUNT(home_won), 2) as percent_won_at_home\n",
        "  FROM matchups_score_home\n",
        "  GROUP BY matchups_score_home.home\n",
        "), awayRecord as (\n",
        "  SELECT matchups_score_away.away, SUM(away_won) as awayWon, COUNT(away_won) as away_played,\n",
        "    ROUND(100.0 * SUM(away_won)/COUNT(away_won), 2) as percent_won_at_away\n",
        "  FROM matchups_score_away\n",
        "  GROUP BY matchups_score_away.away\n",
        "), totalRecordsEvenMatched as (\n",
        "  SELECT homeRecord.home, homeRecord.percent_won_at_home, awayRecord.percent_won_at_away\n",
        "  FROM homeRecord\n",
        "  JOIN awayRecord ON homeRecord.home = awayRecord.away\n",
        "),\n",
        "home_teams_attendance AS (SELECT market as home_team, avg(attendance) as avg_attendance FROM `bigquery-public-data.ncaa_basketball.mbb_teams_games_sr` WHERE neutral_site IS NULL AND attendance IS NOT NULL AND home_team=true GROUP BY home_team)\n",
        "SELECT avg_attendance, percent_won_at_home FROM home_teams_attendance JOIN totalRecordsEvenMatched ON totalRecordsEvenMatched.home = home_teams_attendance.home_team"
      ],
      "execution_count": null,
      "outputs": []
    },
    {
      "cell_type": "code",
      "metadata": {
        "colab": {
          "base_uri": "https://localhost:8080/",
          "height": 334
        },
        "id": "0HQSqpV0ePlX",
        "outputId": "a972a742-874a-4563-ca81-b4540a48b600"
      },
      "source": [
        "#@title Plot for \"Home Attendance Effect on Home Team (Even Matchups)\"\n",
        "plt.figure()\n",
        "plt.scatter(attendance_evenly_matched[\"avg_attendance\"], attendance_evenly_matched[\"percent_won_at_home\"])\n",
        "plt.title(\"Effect of average attendance at home stadium on home team home win percentage in evenly matched games.\")\n",
        "plt.xlabel(\"Average Attendance (log)\")\n",
        "plt.ylabel(\"Winning Percentage At Home (log)\")\n",
        "plt.yscale('log')\n",
        "plt.xscale('log')\n",
        "print(\"Correlation Coefficient:\\n\" + str((np.corrcoef(attendance_evenly_matched[\"avg_attendance\"], attendance_evenly_matched[\"percent_won_at_home\"])[1][0])))"
      ],
      "execution_count": null,
      "outputs": [
        {
          "output_type": "stream",
          "name": "stdout",
          "text": [
            "Correlation Coefficient:\n",
            "0.21150235703727938\n"
          ]
        },
        {
          "output_type": "display_data",
          "data": {
            "image/png": "[encoded data removed]",
            "text/plain": [
              "<Figure size 432x288 with 1 Axes>"
            ]
          },
          "metadata": {
            "needs_background": "light"
          }
        }
      ]
    },
    {
      "cell_type": "code",
      "metadata": {
        "id": "FOhBerW-eeBr"
      },
      "source": [
        "#@title Query for \"Home Attendance Effect on Away Team (Even Matchups)\"\n",
        "%%bigquery --project $project_id attendance_evenly_matched_away\n",
        "WITH won_home as ( # get wins and losses when team is home\n",
        "  SELECT sr.h_market as home_team, IF(sr.h_points_game > sr.a_points_game, 1, 0) as win\n",
        "  FROM `bigquery-public-data.ncaa_basketball.mbb_games_sr` as sr\n",
        "), win_h_percentage as ( # win percentage of team as away team\n",
        "  SELECT home_team, ROUND(100.0 * SUM(win) / COUNT(win), 2) as win_percent_as_home, SUM(win) as home_wins, COUNT(win) as home_played\n",
        "  FROM won_home\n",
        "  GROUP BY home_team\n",
        "  HAVING COUNT(win) > 0 #so at least 1 game played at home\n",
        "), won_away as (\n",
        "  SELECT sr.a_market as away_team, IF(sr.h_points_game < sr.a_points_game, 1, 0) as win\n",
        "  FROM `bigquery-public-data.ncaa_basketball.mbb_games_sr` as sr\n",
        "), win_a_percentage as ( # win percentage of team as away team\n",
        "  SELECT away_team, ROUND(100.0 * SUM(win) / COUNT(win), 2) as win_percent_as_away, SUM(win) as away_wins, COUNT(win) as away_played\n",
        "  FROM won_away\n",
        "  GROUP BY away_team\n",
        "  HAVING COUNT(win) > 0 #so at least 1 game played at away\n",
        "), percents as (\n",
        "  SELECT win_percent_as_home, win_percent_as_away,\n",
        "  ROUND(100.0 * (home_wins + away_wins) / (away_played + home_played), 2) as total_win_percent, home_team as team\n",
        "  FROM win_h_percentage\n",
        "  JOIN win_a_percentage ON away_team = home_team\n",
        "  WHERE win_percent_as_home > 0.0 OR win_percent_as_away > 0.0 #gets rid of teams that didn't win at all (13 rows)\n",
        "), percents2 as (\n",
        "  SELECT *\n",
        "  FROM percents\n",
        "), matchups as (\n",
        "  SELECT DISTINCT(game_id), sr.h_market as home, sr.a_market as away,\n",
        "    percents.total_win_percent as total_win_percent_home, percents2.total_win_percent as total_win_percent_away,\n",
        "    ABS(percents.total_win_percent - percents2.total_win_percent) as percent_diff, h_points_game, a_points_game\n",
        "  FROM percents, percents2, `bigquery-public-data.ncaa_basketball.mbb_games_sr` as sr\n",
        "  WHERE sr.h_market = percents.team AND sr.a_market = percents2.team\n",
        "    AND ABS(percents.total_win_percent - percents2.total_win_percent) < 5\n",
        "), matchups_score_home as (\n",
        "  SELECT *, IF(h_points_game > a_points_game, 1, 0) as home_won\n",
        "  FROM matchups\n",
        "), matchups_score_away as (\n",
        "  SELECT *, IF(h_points_game < a_points_game, 1, 0) as away_won\n",
        "  FROM matchups\n",
        "), homeRecord as (\n",
        "  SELECT matchups_score_home.home, SUM(home_won) as homeWon, COUNT(home_won) as home_played, ROUND(100.0 * SUM(home_won)/COUNT(home_won), 2) as percent_won_at_home\n",
        "  FROM matchups_score_home\n",
        "  GROUP BY matchups_score_home.home\n",
        "), awayRecord as (\n",
        "  SELECT matchups_score_away.away, SUM(away_won) as awayWon, COUNT(away_won) as away_played,\n",
        "    ROUND(100.0 * SUM(away_won)/COUNT(away_won), 2) as percent_won_at_away\n",
        "  FROM matchups_score_away\n",
        "  GROUP BY matchups_score_away.away\n",
        "), totalRecordsEvenMatched as (\n",
        "  SELECT homeRecord.home, homeRecord.percent_won_at_home, awayRecord.percent_won_at_away\n",
        "  FROM homeRecord\n",
        "  JOIN awayRecord ON homeRecord.home = awayRecord.away\n",
        "),\n",
        "away_teams_attendance AS (SELECT market as away_team, avg(attendance) as avg_attendance FROM `bigquery-public-data.ncaa_basketball.mbb_teams_games_sr` WHERE neutral_site IS NULL AND attendance IS NOT NULL AND home_team=false GROUP BY away_team)\n",
        "SELECT avg_attendance, percent_won_at_away FROM away_teams_attendance JOIN totalRecordsEvenMatched ON totalRecordsEvenMatched.home = away_teams_attendance.away_team"
      ],
      "execution_count": null,
      "outputs": []
    },
    {
      "cell_type": "code",
      "metadata": {
        "colab": {
          "base_uri": "https://localhost:8080/",
          "height": 334
        },
        "id": "D3ifh5oEe2r_",
        "outputId": "5640346d-16c8-48cd-e959-ee38c947da89"
      },
      "source": [
        "#@title Plot for \"Home Attendance Effect on Away Team (Even Matchups)\"\n",
        "plt.figure()\n",
        "plt.scatter(attendance_evenly_matched_away[\"avg_attendance\"], attendance_evenly_matched_away[\"percent_won_at_away\"])\n",
        "plt.title(\"Effect of average attendance at home stadium on away team away win percentage in evenly matched games.\")\n",
        "plt.xlabel(\"Average Attendance\")\n",
        "plt.ylabel(\"Winning Percentage At Away\")\n",
        "plt.yscale('log')\n",
        "plt.xscale('log')\n",
        "print(\"Correlation Coefficient:\\n\" + str((np.corrcoef(attendance_evenly_matched_away[\"avg_attendance\"], attendance_evenly_matched_away[\"percent_won_at_away\"])[1][0])))"
      ],
      "execution_count": null,
      "outputs": [
        {
          "output_type": "stream",
          "name": "stdout",
          "text": [
            "Correlation Coefficient:\n",
            "0.11544302394389601\n"
          ]
        },
        {
          "output_type": "display_data",
          "data": {
            "image/png": "[encoded data removed]",
            "text/plain": [
              "<Figure size 432x288 with 1 Axes>"
            ]
          },
          "metadata": {
            "needs_background": "light"
          }
        }
      ]
    },
    {
      "cell_type": "markdown",
      "metadata": {
        "id": "q8Wo1ZCpfUSQ"
      },
      "source": [
        "As shown by the above plots and correlation coefficients, it turns out that win percentage and average attendance are positively correlated in each of these 4 cases. We realize that this is likely partly because a higher win percentage means a better team which means more interest and larger crowds. It was difficult to isolate the pure effect of the crowd on game performance, since external factors like fans gravitating towards better teams exist. Improving this exploration is beyond the scope of this project, as it currently stands but we will have some interesting findings.\n",
        "\n",
        "For example, it can be seen that in both even matchups and all matchups, the positive correlation between home attendance and the home team winning was higher than that between home attendance and the away team winning. As mentioned above, higher win percentages result in higher average attendances in general, but the home team winning being more strongly correlated with attendance at the home venue could be attributed to home team advantage and the psychological effects of having fans behind you to energize and reinvigorate you. This exploration contributes to the answer of \"yes\" in favor of the home team to our question of \"does game location affect outcomes?\" "
      ]
    },
    {
      "cell_type": "markdown",
      "metadata": {
        "id": "ZzE2Tt-XXbpr"
      },
      "source": [
        "## Data Exploration: Effect of Attendance on Three-point Shooting"
      ]
    },
    {
      "cell_type": "markdown",
      "metadata": {
        "id": "FMKIqLwCXyyD"
      },
      "source": [
        "So far, we have looked at game outcomes, but what about some of the finer details of the game. One of the most focus-intensive plays in the sport is the three-point shot. Larger crowds means more noise, more heckling, and more distractions. Could this impact a player's ability to focus and knock down three-pointers? If we failed to look at some of the game's finer details, we could miss out on some truly fascinating results that underpin game outcomes. This is what has inspired this section.\n",
        "\n",
        "To get data on three-point shot attempts and makes, we will use `bigquery-public-data.ncaa_basketball.mbb_pbp_sr`."
      ]
    },
    {
      "cell_type": "code",
      "metadata": {
        "id": "Ek-Ici-qjLPU"
      },
      "source": [
        "#@title Query for \"Effect of Attendance on Three-point Shooting\"\n",
        "%%bigquery --project $project_id attendance_effect_on_3p\n",
        "SELECT DISTINCT\n",
        "  game_id,\n",
        "  attendance,\n",
        "  SUM(CASE WHEN shot_made=true THEN 1 ELSE 0 END) / SUM(CASE WHEN three_point_shot=true THEN 1 ELSE 0 END) as three_point_percentage\n",
        "FROM\n",
        "  `bigquery-public-data.ncaa_basketball.mbb_pbp_sr`\n",
        "WHERE\n",
        "  three_point_shot = true \n",
        "GROUP BY\n",
        "  game_id,\n",
        "  attendance\n",
        "HAVING \n",
        "  three_point_percentage IS NOT NULL AND\n",
        "  attendance IS NOT NULL\n"
      ],
      "execution_count": null,
      "outputs": []
    },
    {
      "cell_type": "code",
      "metadata": {
        "colab": {
          "base_uri": "https://localhost:8080/",
          "height": 330
        },
        "id": "FS5jZCldjiDx",
        "cellView": "form",
        "outputId": "eae6cc85-a797-4e56-c969-e0880f86606b"
      },
      "source": [
        "#@title Plot for \"Effect of Attendance on Three-point Shooting\"\n",
        "plt.figure()\n",
        "plt.xlim(0, 25000)\n",
        "plt.scatter(attendance_effect_on_3p[\"attendance\"], attendance_effect_on_3p[\"three_point_percentage\"])\n",
        "plt.title(\"Effect of attendance on three point percentage\")\n",
        "plt.xlabel(\"Attendance\")\n",
        "plt.ylabel(\"Three Point Percentage\")\n",
        "print(\"Correlation Coefficient:\\n\" + str((np.corrcoef(attendance_effect_on_3p[\"attendance\"], attendance_effect_on_3p[\"three_point_percentage\"])[1][0])))"
      ],
      "execution_count": null,
      "outputs": [
        {
          "output_type": "stream",
          "name": "stdout",
          "text": [
            "Correlation Coefficient:\n",
            "0.004739402128736532\n"
          ]
        },
        {
          "output_type": "display_data",
          "data": {
            "image/png": "[encoded data removed]",
            "text/plain": [
              "<Figure size 432x288 with 1 Axes>"
            ]
          },
          "metadata": {
            "needs_background": "light"
          }
        }
      ]
    },
    {
      "cell_type": "markdown",
      "metadata": {
        "id": "Y4ut3VnIjrvK"
      },
      "source": [
        "In the above data, we trimmed off some outliers, but the story remains the same. Attendance is not significantly corrrelated with three-point make percentage. There is a slight positive correlation of .0047, but this is so small that it's safe to assume that our hypothesis of attendance affecting player/team performance with respect to three-point shooting was incorrect or at least inconclusive."
      ]
    },
    {
      "cell_type": "markdown",
      "metadata": {
        "id": "NhFSJifsiC1U"
      },
      "source": [
        "## Data Prediction: Our ML Model"
      ]
    },
    {
      "cell_type": "markdown",
      "metadata": {
        "id": "jifkpPJrq46i"
      },
      "source": [
        "In each prediction model, we will be using features if the home team wins (home_win) as the label, if the home team has a higher win percentage than the away team (hometeam_stronger), the home team's total win percentage (total_win_percent_home), the away team's total win percentage (total_win_percent_away), the absolute value of the difference in win percentages (percent_diff). We will divide up the training, validation, and test sets by scheduled date and the percent_diff. \n",
        "\n",
        "Two additional metrics that have no correlation with stats are also considered: one is the average class (frosh/soph/jr/sr/gr) of each teams and the other is attendance (how many people come watch the game). With all the above features held constant, we wanted to see which of these two non-statistic features yielded better prediction results. In total, we will have three models: one with all the above features, one with all the above features mentioned and also player class, and one with all the above features mentioned and also attendance.\n",
        "\n",
        "In our data exploration, we discovered higher average player class is correlated with a lower win percentage (younger avg. player class correlate with mroe wins. We also discovered that higher attendance is correlated with higher win percentage for both teams, with a stronger correlation for the home team (due to home team advantage). \n",
        "\n",
        "With this in mind, we wanted to use these 2 stats as features to see how it could improve our model's prediction, and which would be a stronger feature to use for predictions if any is. \n",
        "\n",
        "For my training set, I limited my data to percent_diff < 4.0 AND scheduled_date < '2017-06-01'. \n",
        "\n",
        "For my evaluation set, I limited my data to percent_diff < 4.0 AND '2017-06-01' < scheduled_date AND scheduled_date < '2018-03-28'.\n",
        "\n",
        "For my prediction set, I used unseen data that is where 4.0 <= percent_diff  AND percent_diff < 5.0.\n"
      ]
    },
    {
      "cell_type": "markdown",
      "metadata": {
        "id": "tJFwZhXMpjoc"
      },
      "source": [
        "## Model for No Player Class or Attendance"
      ]
    },
    {
      "cell_type": "code",
      "metadata": {
        "id": "cdQpi7tsjK-p",
        "cellView": "form"
      },
      "source": [
        "#@title Query: No Player Class or Attendance\n",
        "%%bigquery --project $project_id \n",
        "\n",
        "WITH won_home as ( # get wins and losses when team is home\n",
        "  SELECT sr.h_market as home_team, IF(sr.h_points_game > sr.a_points_game, 1, 0) as win\n",
        "  FROM `bigquery-public-data.ncaa_basketball.mbb_games_sr` as sr\n",
        "), win_h_percentage as ( # win percentage of team as away team\n",
        "  SELECT home_team, ROUND(100.0 * SUM(win) / COUNT(win), 2) as win_percent_as_home, SUM(win) as home_wins, COUNT(win) as home_played\n",
        "  FROM won_home\n",
        "  GROUP BY home_team\n",
        "  HAVING COUNT(win) > 0 #so at least 1 game played at home\n",
        "), won_away as (\n",
        "  SELECT sr.a_market as away_team, IF(sr.h_points_game < sr.a_points_game, 1, 0) as win\n",
        "  FROM `bigquery-public-data.ncaa_basketball.mbb_games_sr` as sr\n",
        "), win_a_percentage as ( # win percentage of team as away team\n",
        "  SELECT away_team, ROUND(100.0 * SUM(win) / COUNT(win), 2) as win_percent_as_away, SUM(win) as away_wins, COUNT(win) as away_played\n",
        "  FROM won_away\n",
        "  GROUP BY away_team\n",
        "  HAVING COUNT(win) > 0 #so at least 1 game played at away\n",
        "), percents as (\n",
        "  SELECT win_percent_as_home, win_percent_as_away,\n",
        "  ROUND(100.0 * (home_wins + away_wins) / (away_played + home_played), 2) as total_win_percent, home_team as team\n",
        "  FROM win_h_percentage\n",
        "  JOIN win_a_percentage ON away_team = home_team\n",
        "  WHERE win_percent_as_home > 0.0 OR win_percent_as_away > 0.0 #gets rid of teams that didn't win at all (13 rows)\n",
        "), percents2 as (\n",
        "  SELECT *\n",
        "  FROM percents\n",
        "), matchups as (\n",
        "  SELECT DISTINCT(game_id), sr.h_market as home, sr.a_market as away,\n",
        "    percents.total_win_percent as total_win_percent_home, percents2.total_win_percent as total_win_percent_away,\n",
        "    ABS(percents.total_win_percent - percents2.total_win_percent) as percent_diff, h_points_game, a_points_game\n",
        "  FROM percents, percents2, `bigquery-public-data.ncaa_basketball.mbb_games_sr` as sr\n",
        "  WHERE sr.h_market = percents.team AND sr.a_market = percents2.team\n",
        "    AND ABS(percents.total_win_percent - percents2.total_win_percent) < 5\n",
        "), even_matches AS (\n",
        "  SELECT sr.attendance, matchups.game_id, home, away, \n",
        "   total_win_percent_home, total_win_percent_away, percent_diff,\n",
        "   IF(matchups.h_points_game > matchups.a_points_game, 1, 0) as home_win, \n",
        "   scheduled_date \n",
        "  FROM `bigquery-public-data.ncaa_basketball.mbb_teams_games_sr` sr \n",
        "  JOIN matchups ON matchups.game_id = sr.game_id\n",
        "), final as (\n",
        "SELECT DISTINCT(game_id), attendance, home, away,\n",
        "  total_win_percent_home, total_win_percent_away, percent_diff, home_win,\n",
        "  scheduled_date\n",
        "FROM even_matches\n",
        "WHERE attendance IS NOT NULL\n",
        "), less_four as (\n",
        "  SELECT home_win as label, IF(total_win_percent_home > total_win_percent_away, 1, 0) AS hometeam_stronger, \n",
        "    total_win_percent_home, total_win_percent_away, percent_diff, \n",
        "    scheduled_date\n",
        "  FROM final\n",
        "  WHERE percent_diff < 4.0\n",
        ")\n",
        "SELECT *\n",
        "FROM less_four"
      ],
      "execution_count": null,
      "outputs": []
    },
    {
      "cell_type": "code",
      "metadata": {
        "id": "bwDY8ItgpUW_",
        "colab": {
          "base_uri": "https://localhost:8080/"
        },
        "outputId": "52dd3c5c-3551-4433-a39e-aa2986216f18"
      },
      "source": [
        "model_dataset_name = 'zregular'\n",
        "\n",
        "dataset = bigquery.Dataset(client.dataset(model_dataset_name))\n",
        "dataset.location = 'US'\n",
        "client.create_dataset(dataset)"
      ],
      "execution_count": null,
      "outputs": [
        {
          "output_type": "execute_result",
          "data": {
            "text/plain": [
              "Dataset(DatasetReference('project3-334106', 'zregular'))"
            ]
          },
          "metadata": {},
          "execution_count": 15
        }
      ]
    },
    {
      "cell_type": "code",
      "metadata": {
        "id": "23ah0XhkpUhf",
        "colab": {
          "base_uri": "https://localhost:8080/",
          "height": 32
        },
        "cellView": "form",
        "outputId": "3de17360-fb60-4f33-ad83-041431248453"
      },
      "source": [
        "#@title Create Model: No Player Class or Attendance\n",
        "%%bigquery --project $project_id\n",
        "\n",
        "CREATE OR REPLACE MODEL `zregular.reg` -- we'll call our model 'attendance_m'\n",
        "OPTIONS (model_type='logistic_reg') AS ( \n",
        "  WITH won_home as ( # get wins and losses when team is home\n",
        "    SELECT sr.h_market as home_team, IF(sr.h_points_game > sr.a_points_game, 1, 0) as win\n",
        "    FROM `bigquery-public-data.ncaa_basketball.mbb_games_sr` as sr\n",
        "  ), win_h_percentage as ( # win percentage of team as away team\n",
        "    SELECT home_team, ROUND(100.0 * SUM(win) / COUNT(win), 2) as win_percent_as_home, SUM(win) as home_wins, COUNT(win) as home_played\n",
        "    FROM won_home\n",
        "    GROUP BY home_team\n",
        "    HAVING COUNT(win) > 0 #so at least 1 game played at home\n",
        "  ), won_away as (\n",
        "    SELECT sr.a_market as away_team, IF(sr.h_points_game < sr.a_points_game, 1, 0) as win\n",
        "    FROM `bigquery-public-data.ncaa_basketball.mbb_games_sr` as sr\n",
        "  ), win_a_percentage as ( # win percentage of team as away team\n",
        "    SELECT away_team, ROUND(100.0 * SUM(win) / COUNT(win), 2) as win_percent_as_away, SUM(win) as away_wins, COUNT(win) as away_played\n",
        "    FROM won_away\n",
        "    GROUP BY away_team\n",
        "    HAVING COUNT(win) > 0 #so at least 1 game played at away\n",
        "  ), percents as (\n",
        "    SELECT win_percent_as_home, win_percent_as_away,\n",
        "    ROUND(100.0 * (home_wins + away_wins) / (away_played + home_played), 2) as total_win_percent, home_team as team\n",
        "    FROM win_h_percentage\n",
        "    JOIN win_a_percentage ON away_team = home_team\n",
        "    WHERE win_percent_as_home > 0.0 OR win_percent_as_away > 0.0 #gets rid of teams that didn't win at all (13 rows)\n",
        "  ), percents2 as (\n",
        "    SELECT *\n",
        "    FROM percents\n",
        "  ), matchups as (\n",
        "    SELECT DISTINCT(game_id), sr.h_market as home, sr.a_market as away,\n",
        "      percents.total_win_percent as total_win_percent_home, percents2.total_win_percent as total_win_percent_away,\n",
        "      ABS(percents.total_win_percent - percents2.total_win_percent) as percent_diff, h_points_game, a_points_game\n",
        "    FROM percents, percents2, `bigquery-public-data.ncaa_basketball.mbb_games_sr` as sr\n",
        "    WHERE sr.h_market = percents.team AND sr.a_market = percents2.team\n",
        "      AND ABS(percents.total_win_percent - percents2.total_win_percent) < 5\n",
        "  ), even_matches AS (\n",
        "    SELECT sr.attendance, matchups.game_id, home, away, \n",
        "    total_win_percent_home, total_win_percent_away, percent_diff,\n",
        "    IF(matchups.h_points_game > matchups.a_points_game, 1, 0) as home_win, \n",
        "    scheduled_date \n",
        "    FROM `bigquery-public-data.ncaa_basketball.mbb_teams_games_sr` sr \n",
        "    JOIN matchups ON matchups.game_id = sr.game_id\n",
        "  ), final as (\n",
        "  SELECT DISTINCT(game_id), attendance, home, away,\n",
        "    total_win_percent_home, total_win_percent_away, percent_diff, home_win,\n",
        "    scheduled_date\n",
        "  FROM even_matches\n",
        "  WHERE attendance IS NOT NULL\n",
        "  )\n",
        "  SELECT home_win as label, IF(total_win_percent_home > total_win_percent_away, 1, 0) AS hometeam_stronger, \n",
        "    total_win_percent_home, total_win_percent_away, percent_diff,\n",
        "    scheduled_date\n",
        "  FROM final\n",
        "  WHERE percent_diff < 4.0 AND scheduled_date < '2017-06-01'\n",
        ")"
      ],
      "execution_count": null,
      "outputs": [
        {
          "output_type": "execute_result",
          "data": {
            "text/html": [
              "<div>\n",
              "<style scoped>\n",
              "    .dataframe tbody tr th:only-of-type {\n",
              "        vertical-align: middle;\n",
              "    }\n",
              "\n",
              "    .dataframe tbody tr th {\n",
              "        vertical-align: top;\n",
              "    }\n",
              "\n",
              "    .dataframe thead th {\n",
              "        text-align: right;\n",
              "    }\n",
              "</style>\n",
              "<table border=\"1\" class=\"dataframe\">\n",
              "  <thead>\n",
              "    <tr style=\"text-align: right;\">\n",
              "      <th></th>\n",
              "    </tr>\n",
              "  </thead>\n",
              "  <tbody>\n",
              "  </tbody>\n",
              "</table>\n",
              "</div>"
            ],
            "text/plain": [
              "Empty DataFrame\n",
              "Columns: []\n",
              "Index: []"
            ]
          },
          "metadata": {},
          "execution_count": 16
        }
      ]
    },
    {
      "cell_type": "code",
      "metadata": {
        "id": "ndtwyE39pUlT",
        "colab": {
          "base_uri": "https://localhost:8080/",
          "height": 142
        },
        "outputId": "832bb651-f5fc-4ff6-897c-bcca333fa273"
      },
      "source": [
        "%%bigquery --project $project_id\n",
        "\n",
        "# Run cell to view training stats\n",
        "\n",
        "SELECT\n",
        "  *\n",
        "FROM\n",
        "  ML.TRAINING_INFO(MODEL `zregular.reg`)"
      ],
      "execution_count": null,
      "outputs": [
        {
          "output_type": "execute_result",
          "data": {
            "text/html": [
              "<div>\n",
              "<style scoped>\n",
              "    .dataframe tbody tr th:only-of-type {\n",
              "        vertical-align: middle;\n",
              "    }\n",
              "\n",
              "    .dataframe tbody tr th {\n",
              "        vertical-align: top;\n",
              "    }\n",
              "\n",
              "    .dataframe thead th {\n",
              "        text-align: right;\n",
              "    }\n",
              "</style>\n",
              "<table border=\"1\" class=\"dataframe\">\n",
              "  <thead>\n",
              "    <tr style=\"text-align: right;\">\n",
              "      <th></th>\n",
              "      <th>training_run</th>\n",
              "      <th>iteration</th>\n",
              "      <th>loss</th>\n",
              "      <th>eval_loss</th>\n",
              "      <th>learning_rate</th>\n",
              "      <th>duration_ms</th>\n",
              "    </tr>\n",
              "  </thead>\n",
              "  <tbody>\n",
              "    <tr>\n",
              "      <th>0</th>\n",
              "      <td>0</td>\n",
              "      <td>2</td>\n",
              "      <td>0.609283</td>\n",
              "      <td>0.666109</td>\n",
              "      <td>0.8</td>\n",
              "      <td>2320</td>\n",
              "    </tr>\n",
              "    <tr>\n",
              "      <th>1</th>\n",
              "      <td>0</td>\n",
              "      <td>1</td>\n",
              "      <td>0.648166</td>\n",
              "      <td>0.674378</td>\n",
              "      <td>0.4</td>\n",
              "      <td>2342</td>\n",
              "    </tr>\n",
              "    <tr>\n",
              "      <th>2</th>\n",
              "      <td>0</td>\n",
              "      <td>0</td>\n",
              "      <td>0.676241</td>\n",
              "      <td>0.685316</td>\n",
              "      <td>0.2</td>\n",
              "      <td>2251</td>\n",
              "    </tr>\n",
              "  </tbody>\n",
              "</table>\n",
              "</div>"
            ],
            "text/plain": [
              "   training_run  iteration      loss  eval_loss  learning_rate  duration_ms\n",
              "0             0          2  0.609283   0.666109            0.8         2320\n",
              "1             0          1  0.648166   0.674378            0.4         2342\n",
              "2             0          0  0.676241   0.685316            0.2         2251"
            ]
          },
          "metadata": {},
          "execution_count": 17
        }
      ]
    },
    {
      "cell_type": "code",
      "metadata": {
        "id": "c3kFYX0kpUon",
        "colab": {
          "base_uri": "https://localhost:8080/",
          "height": 80
        },
        "cellView": "form",
        "outputId": "7f5daa9c-fe04-4033-e49c-89cde608de49"
      },
      "source": [
        "#@title Evaluate: No Player Class or Attendance\n",
        "%%bigquery --project $project_id\n",
        "#EVALUATE\n",
        "SELECT\n",
        "  *\n",
        "FROM ML.EVALUATE(MODEL `zregular.reg`, ( \n",
        "  WITH won_home as ( # get wins and losses when team is home\n",
        "    SELECT sr.h_market as home_team, IF(sr.h_points_game > sr.a_points_game, 1, 0) as win\n",
        "    FROM `bigquery-public-data.ncaa_basketball.mbb_games_sr` as sr\n",
        "  ), win_h_percentage as ( # win percentage of team as away team\n",
        "    SELECT home_team, ROUND(100.0 * SUM(win) / COUNT(win), 2) as win_percent_as_home, SUM(win) as home_wins, COUNT(win) as home_played\n",
        "    FROM won_home\n",
        "    GROUP BY home_team\n",
        "    HAVING COUNT(win) > 0 #so at least 1 game played at home\n",
        "  ), won_away as (\n",
        "    SELECT sr.a_market as away_team, IF(sr.h_points_game < sr.a_points_game, 1, 0) as win\n",
        "    FROM `bigquery-public-data.ncaa_basketball.mbb_games_sr` as sr\n",
        "  ), win_a_percentage as ( # win percentage of team as away team\n",
        "    SELECT away_team, ROUND(100.0 * SUM(win) / COUNT(win), 2) as win_percent_as_away, SUM(win) as away_wins, COUNT(win) as away_played\n",
        "    FROM won_away\n",
        "    GROUP BY away_team\n",
        "    HAVING COUNT(win) > 0 #so at least 1 game played at away\n",
        "  ), percents as (\n",
        "    SELECT win_percent_as_home, win_percent_as_away,\n",
        "    ROUND(100.0 * (home_wins + away_wins) / (away_played + home_played), 2) as total_win_percent, home_team as team\n",
        "    FROM win_h_percentage\n",
        "    JOIN win_a_percentage ON away_team = home_team\n",
        "    WHERE win_percent_as_home > 0.0 OR win_percent_as_away > 0.0 #gets rid of teams that didn't win at all (13 rows)\n",
        "  ), percents2 as (\n",
        "    SELECT *\n",
        "    FROM percents\n",
        "  ), matchups as (\n",
        "    SELECT DISTINCT(game_id), sr.h_market as home, sr.a_market as away,\n",
        "      percents.total_win_percent as total_win_percent_home, percents2.total_win_percent as total_win_percent_away,\n",
        "      ABS(percents.total_win_percent - percents2.total_win_percent) as percent_diff, h_points_game, a_points_game\n",
        "    FROM percents, percents2, `bigquery-public-data.ncaa_basketball.mbb_games_sr` as sr\n",
        "    WHERE sr.h_market = percents.team AND sr.a_market = percents2.team\n",
        "      AND ABS(percents.total_win_percent - percents2.total_win_percent) < 5\n",
        "  ), even_matches AS (\n",
        "    SELECT sr.attendance, matchups.game_id, home, away, \n",
        "    total_win_percent_home, total_win_percent_away, percent_diff,\n",
        "    IF(matchups.h_points_game > matchups.a_points_game, 1, 0) as home_win, \n",
        "    scheduled_date \n",
        "    FROM `bigquery-public-data.ncaa_basketball.mbb_teams_games_sr` sr \n",
        "    JOIN matchups ON matchups.game_id = sr.game_id\n",
        "  ), final as (\n",
        "  SELECT DISTINCT(game_id), attendance, home, away,\n",
        "    total_win_percent_home, total_win_percent_away, percent_diff, home_win,\n",
        "    scheduled_date\n",
        "  FROM even_matches\n",
        "  WHERE attendance IS NOT NULL\n",
        "  )\n",
        "  SELECT home_win as label, IF(total_win_percent_home > total_win_percent_away, 1, 0) AS hometeam_stronger, \n",
        "    total_win_percent_home, total_win_percent_away, percent_diff,\n",
        "    scheduled_date\n",
        "  FROM final\n",
        "  WHERE percent_diff < 4.0 AND '2017-06-01' < scheduled_date AND scheduled_date < '2018-03-28'\n",
        "))"
      ],
      "execution_count": null,
      "outputs": [
        {
          "output_type": "execute_result",
          "data": {
            "text/html": [
              "<div>\n",
              "<style scoped>\n",
              "    .dataframe tbody tr th:only-of-type {\n",
              "        vertical-align: middle;\n",
              "    }\n",
              "\n",
              "    .dataframe tbody tr th {\n",
              "        vertical-align: top;\n",
              "    }\n",
              "\n",
              "    .dataframe thead th {\n",
              "        text-align: right;\n",
              "    }\n",
              "</style>\n",
              "<table border=\"1\" class=\"dataframe\">\n",
              "  <thead>\n",
              "    <tr style=\"text-align: right;\">\n",
              "      <th></th>\n",
              "      <th>precision</th>\n",
              "      <th>recall</th>\n",
              "      <th>accuracy</th>\n",
              "      <th>f1_score</th>\n",
              "      <th>log_loss</th>\n",
              "      <th>roc_auc</th>\n",
              "    </tr>\n",
              "  </thead>\n",
              "  <tbody>\n",
              "    <tr>\n",
              "      <th>0</th>\n",
              "      <td>0.660513</td>\n",
              "      <td>0.996904</td>\n",
              "      <td>0.659161</td>\n",
              "      <td>0.794571</td>\n",
              "      <td>0.6705</td>\n",
              "      <td>0.528645</td>\n",
              "    </tr>\n",
              "  </tbody>\n",
              "</table>\n",
              "</div>"
            ],
            "text/plain": [
              "   precision    recall  accuracy  f1_score  log_loss   roc_auc\n",
              "0   0.660513  0.996904  0.659161  0.794571    0.6705  0.528645"
            ]
          },
          "metadata": {},
          "execution_count": 18
        }
      ]
    },
    {
      "cell_type": "code",
      "metadata": {
        "id": "XH2a30ugpUqS",
        "cellView": "form"
      },
      "source": [
        "#@title Predict: No Player Class or Attendance\n",
        "%%bigquery --project $project_id\n",
        "#PREDICT\n",
        "SELECT\n",
        "  *\n",
        "FROM ML.PREDICT(MODEL `zregular.reg`, ( \n",
        "  WITH won_home as ( # get wins and losses when team is home\n",
        "    SELECT sr.h_market as home_team, IF(sr.h_points_game > sr.a_points_game, 1, 0) as win\n",
        "    FROM `bigquery-public-data.ncaa_basketball.mbb_games_sr` as sr\n",
        "  ), win_h_percentage as ( # win percentage of team as away team\n",
        "    SELECT home_team, ROUND(100.0 * SUM(win) / COUNT(win), 2) as win_percent_as_home, SUM(win) as home_wins, COUNT(win) as home_played\n",
        "    FROM won_home\n",
        "    GROUP BY home_team\n",
        "    HAVING COUNT(win) > 0 #so at least 1 game played at home\n",
        "  ), won_away as (\n",
        "    SELECT sr.a_market as away_team, IF(sr.h_points_game < sr.a_points_game, 1, 0) as win\n",
        "    FROM `bigquery-public-data.ncaa_basketball.mbb_games_sr` as sr\n",
        "  ), win_a_percentage as ( # win percentage of team as away team\n",
        "    SELECT away_team, ROUND(100.0 * SUM(win) / COUNT(win), 2) as win_percent_as_away, SUM(win) as away_wins, COUNT(win) as away_played\n",
        "    FROM won_away\n",
        "    GROUP BY away_team\n",
        "    HAVING COUNT(win) > 0 #so at least 1 game played at away\n",
        "  ), percents as (\n",
        "    SELECT win_percent_as_home, win_percent_as_away,\n",
        "    ROUND(100.0 * (home_wins + away_wins) / (away_played + home_played), 2) as total_win_percent, home_team as team\n",
        "    FROM win_h_percentage\n",
        "    JOIN win_a_percentage ON away_team = home_team\n",
        "    WHERE win_percent_as_home > 0.0 OR win_percent_as_away > 0.0 #gets rid of teams that didn't win at all (13 rows)\n",
        "  ), percents2 as (\n",
        "    SELECT *\n",
        "    FROM percents\n",
        "  ), matchups as (\n",
        "    SELECT DISTINCT(game_id), sr.h_market as home, sr.a_market as away,\n",
        "      percents.total_win_percent as total_win_percent_home, percents2.total_win_percent as total_win_percent_away,\n",
        "      ABS(percents.total_win_percent - percents2.total_win_percent) as percent_diff, h_points_game, a_points_game\n",
        "    FROM percents, percents2, `bigquery-public-data.ncaa_basketball.mbb_games_sr` as sr\n",
        "    WHERE sr.h_market = percents.team AND sr.a_market = percents2.team\n",
        "      AND ABS(percents.total_win_percent - percents2.total_win_percent) < 5\n",
        "      AND ABS(percents.total_win_percent - percents2.total_win_percent) >= 4\n",
        "  ), even_matches AS (\n",
        "    SELECT sr.attendance, matchups.game_id, home, away, \n",
        "    total_win_percent_home, total_win_percent_away, percent_diff,\n",
        "    IF(matchups.h_points_game > matchups.a_points_game, 1, 0) as home_win, \n",
        "    scheduled_date \n",
        "    FROM `bigquery-public-data.ncaa_basketball.mbb_teams_games_sr` sr \n",
        "    JOIN matchups ON matchups.game_id = sr.game_id\n",
        "  ), final as (\n",
        "  SELECT DISTINCT(game_id), attendance, home, away,\n",
        "    total_win_percent_home, total_win_percent_away, percent_diff, home_win,\n",
        "    scheduled_date\n",
        "  FROM even_matches\n",
        "  WHERE attendance IS NOT NULL\n",
        "  )\n",
        "  SELECT home_win as label, IF(total_win_percent_home > total_win_percent_away, 1, 0) AS hometeam_stronger, \n",
        "     total_win_percent_home, total_win_percent_away, percent_diff,\n",
        "    scheduled_date\n",
        "  FROM final\n",
        "  WHERE 4.0 <= percent_diff  AND percent_diff < 5.0 #unseen data\n",
        "))\n"
      ],
      "execution_count": null,
      "outputs": []
    },
    {
      "cell_type": "markdown",
      "metadata": {
        "id": "QsPZ8FO0qt8Q"
      },
      "source": [
        "## Model with Player Class"
      ]
    },
    {
      "cell_type": "code",
      "metadata": {
        "id": "WaiSvxVVpUr2",
        "cellView": "form"
      },
      "source": [
        "#@title Query: Player Class\n",
        "%%bigquery --project $project_id \n",
        "\n",
        "WITH won_home as ( # get wins and losses when team is home\n",
        "  SELECT sr.h_market as home_team, IF(sr.h_points_game > sr.a_points_game, 1, 0) as win\n",
        "  FROM `bigquery-public-data.ncaa_basketball.mbb_games_sr` as sr\n",
        "), win_h_percentage as ( # win percentage of team as away team\n",
        "  SELECT home_team, ROUND(100.0 * SUM(win) / COUNT(win), 2) as win_percent_as_home, SUM(win) as home_wins, COUNT(win) as home_played\n",
        "  FROM won_home\n",
        "  GROUP BY home_team\n",
        "  HAVING COUNT(win) > 0 #so at least 1 game played at home\n",
        "), won_away as (\n",
        "  SELECT sr.a_market as away_team, IF(sr.h_points_game < sr.a_points_game, 1, 0) as win\n",
        "  FROM `bigquery-public-data.ncaa_basketball.mbb_games_sr` as sr\n",
        "), win_a_percentage as ( # win percentage of team as away team\n",
        "  SELECT away_team, ROUND(100.0 * SUM(win) / COUNT(win), 2) as win_percent_as_away, SUM(win) as away_wins, COUNT(win) as away_played\n",
        "  FROM won_away\n",
        "  GROUP BY away_team\n",
        "  HAVING COUNT(win) > 0 #so at least 1 game played at away\n",
        "), percents as (\n",
        "  SELECT win_percent_as_home, win_percent_as_away,\n",
        "  ROUND(100.0 * (home_wins + away_wins) / (away_played + home_played), 2) as total_win_percent, home_team as team\n",
        "  FROM win_h_percentage\n",
        "  JOIN win_a_percentage ON away_team = home_team\n",
        "  WHERE win_percent_as_home > 0.0 OR win_percent_as_away > 0.0 #gets rid of teams that didn't win at all (13 rows)\n",
        "), percents2 as (\n",
        "  SELECT *\n",
        "  FROM percents\n",
        "), matchups as (\n",
        "  SELECT DISTINCT(game_id), sr.h_market as home, sr.a_market as away,\n",
        "    percents.total_win_percent as total_win_percent_home, percents2.total_win_percent as total_win_percent_away,\n",
        "    ABS(percents.total_win_percent - percents2.total_win_percent) as percent_diff, h_points_game, a_points_game\n",
        "  FROM percents, percents2, `bigquery-public-data.ncaa_basketball.mbb_games_sr` as sr\n",
        "  WHERE sr.h_market = percents.team AND sr.a_market = percents2.team\n",
        "    AND ABS(percents.total_win_percent - percents2.total_win_percent) < 5\n",
        "), even_matches AS (\n",
        "  SELECT sr.attendance, matchups.game_id, home, away, \n",
        "   total_win_percent_home, total_win_percent_away, percent_diff,\n",
        "   IF(matchups.h_points_game > matchups.a_points_game, 1, 0) as home_win, \n",
        "   scheduled_date \n",
        "  FROM `bigquery-public-data.ncaa_basketball.mbb_teams_games_sr` sr \n",
        "  JOIN matchups ON matchups.game_id = sr.game_id\n",
        "), final as (\n",
        "SELECT DISTINCT(game_id), attendance, home, away,\n",
        "  total_win_percent_home, total_win_percent_away, percent_diff, home_win,\n",
        "  scheduled_date\n",
        "FROM even_matches\n",
        "WHERE attendance IS NOT NULL\n",
        "), less_four as ( # WHAT WE ARE CHANGING\n",
        "  SELECT home_win as label, IF(total_win_percent_home > total_win_percent_away, 1, 0) AS hometeam_stronger, \n",
        "    attendance, total_win_percent_home, total_win_percent_away, percent_diff, \n",
        "    scheduled_date, home, away\n",
        "  FROM final\n",
        "  WHERE percent_diff < 4.0\n",
        "), table1 AS (\n",
        "  SELECT\n",
        "    first_name,\n",
        "    last_name,\n",
        "    team_market,\n",
        "    CASE\n",
        "      WHEN class='FR' THEN 0\n",
        "      WHEN class='SO' THEN 1\n",
        "      WHEN class='JR' THEN 2 \n",
        "      WHEN class='SR' THEN 3\n",
        "      WHEN class='GR' THEN 4\n",
        "      ELSE NULL\n",
        "    END AS class\n",
        "  FROM\n",
        "    `bigquery-public-data.ncaa_basketball.mbb_players_games_sr`\n",
        "  GROUP BY\n",
        "    first_name,\n",
        "    last_name,\n",
        "    team_market,\n",
        "    class\n",
        "),class_avgs AS (\n",
        "  SELECT team_market, AVG(class) as avg_class\n",
        "  FROM (SELECT * FROM table1 WHERE class IS NOT NULL)\n",
        "  GROUP BY team_market\n",
        "), class_and_percents AS (\n",
        "  SELECT team_market, avg_class, total_win_percent \n",
        "  FROM class_avgs JOIN percents ON percents.team = class_avgs.team_market\n",
        "), train as (\n",
        "  SELECT label, IF(total_win_percent_home > total_win_percent_away, 1, 0) AS hometeam_stronger, \n",
        "    attendance, total_win_percent_home, total_win_percent_away, percent_diff, \n",
        "    scheduled_date, avg_class as home_avg_class, away\n",
        "  FROM less_four\n",
        "  JOIN class_and_percents ON class_and_percents.team_market = home\n",
        "), train_final as (\n",
        " SELECT label, IF(total_win_percent_home > total_win_percent_away, 1, 0) AS hometeam_stronger, \n",
        "    total_win_percent_home, total_win_percent_away, percent_diff, \n",
        "    scheduled_date, home_avg_class, avg_class as away_avg_class\n",
        "    FROM train\n",
        "    JOIN class_and_percents ON class_and_percents.team_market = away\n",
        ")\n",
        "  SELECT * \n",
        "  FROM train_final"
      ],
      "execution_count": null,
      "outputs": []
    },
    {
      "cell_type": "code",
      "metadata": {
        "id": "dQXhCiwApUuF",
        "colab": {
          "base_uri": "https://localhost:8080/"
        },
        "outputId": "593da0d1-4bd2-4e96-e263-defea96a43bf"
      },
      "source": [
        "model_dataset_name = 'zmy_model'\n",
        "\n",
        "dataset = bigquery.Dataset(client.dataset(model_dataset_name))\n",
        "dataset.location = 'US'\n",
        "client.create_dataset(dataset)"
      ],
      "execution_count": null,
      "outputs": [
        {
          "output_type": "execute_result",
          "data": {
            "text/plain": [
              "Dataset(DatasetReference('project3-334106', 'zmy_model'))"
            ]
          },
          "metadata": {},
          "execution_count": 21
        }
      ]
    },
    {
      "cell_type": "code",
      "metadata": {
        "id": "NmpUL6DCpUwQ",
        "colab": {
          "base_uri": "https://localhost:8080/",
          "height": 32
        },
        "cellView": "form",
        "outputId": "4537d888-3f65-466c-d8c1-b31e6a9c7ef4"
      },
      "source": [
        "#@title Create Model: Player Class\n",
        "%%bigquery --project $project_id\n",
        "\n",
        "CREATE OR REPLACE MODEL `zmy_model.mod` \n",
        "OPTIONS (model_type='logistic_reg') AS ( \n",
        "  WITH won_home as ( # get wins and losses when team is home\n",
        "    SELECT sr.h_market as home_team, IF(sr.h_points_game > sr.a_points_game, 1, 0) as win\n",
        "    FROM `bigquery-public-data.ncaa_basketball.mbb_games_sr` as sr\n",
        "  ), win_h_percentage as ( # win percentage of team as away team\n",
        "    SELECT home_team, ROUND(100.0 * SUM(win) / COUNT(win), 2) as win_percent_as_home, SUM(win) as home_wins, COUNT(win) as home_played\n",
        "    FROM won_home\n",
        "    GROUP BY home_team\n",
        "    HAVING COUNT(win) > 0 #so at least 1 game played at home\n",
        "  ), won_away as (\n",
        "    SELECT sr.a_market as away_team, IF(sr.h_points_game < sr.a_points_game, 1, 0) as win\n",
        "    FROM `bigquery-public-data.ncaa_basketball.mbb_games_sr` as sr\n",
        "  ), win_a_percentage as ( # win percentage of team as away team\n",
        "    SELECT away_team, ROUND(100.0 * SUM(win) / COUNT(win), 2) as win_percent_as_away, SUM(win) as away_wins, COUNT(win) as away_played\n",
        "    FROM won_away\n",
        "    GROUP BY away_team\n",
        "    HAVING COUNT(win) > 0 #so at least 1 game played at away\n",
        "  ), percents as (\n",
        "    SELECT win_percent_as_home, win_percent_as_away,\n",
        "    ROUND(100.0 * (home_wins + away_wins) / (away_played + home_played), 2) as total_win_percent, home_team as team\n",
        "    FROM win_h_percentage\n",
        "    JOIN win_a_percentage ON away_team = home_team\n",
        "    WHERE win_percent_as_home > 0.0 OR win_percent_as_away > 0.0 #gets rid of teams that didn't win at all (13 rows)\n",
        "  ), percents2 as (\n",
        "    SELECT *\n",
        "    FROM percents\n",
        "  ), matchups as (\n",
        "    SELECT DISTINCT(game_id), sr.h_market as home, sr.a_market as away,\n",
        "      percents.total_win_percent as total_win_percent_home, percents2.total_win_percent as total_win_percent_away,\n",
        "      ABS(percents.total_win_percent - percents2.total_win_percent) as percent_diff, h_points_game, a_points_game\n",
        "    FROM percents, percents2, `bigquery-public-data.ncaa_basketball.mbb_games_sr` as sr\n",
        "    WHERE sr.h_market = percents.team AND sr.a_market = percents2.team\n",
        "      AND ABS(percents.total_win_percent - percents2.total_win_percent) < 5\n",
        "  ), even_matches AS (\n",
        "    SELECT sr.attendance, matchups.game_id, home, away, \n",
        "    total_win_percent_home, total_win_percent_away, percent_diff,\n",
        "    IF(matchups.h_points_game > matchups.a_points_game, 1, 0) as home_win, \n",
        "    scheduled_date \n",
        "    FROM `bigquery-public-data.ncaa_basketball.mbb_teams_games_sr` sr \n",
        "    JOIN matchups ON matchups.game_id = sr.game_id\n",
        "  ), final as (\n",
        "  SELECT DISTINCT(game_id), attendance, home, away,\n",
        "    total_win_percent_home, total_win_percent_away, percent_diff, home_win,\n",
        "    scheduled_date\n",
        "  FROM even_matches\n",
        "  WHERE attendance IS NOT NULL\n",
        "  ), less_four as ( # WHAT WE ARE CHANGING\n",
        "    SELECT home_win as label, IF(total_win_percent_home > total_win_percent_away, 1, 0) AS hometeam_stronger, \n",
        "      attendance, total_win_percent_home, total_win_percent_away, percent_diff, \n",
        "      scheduled_date, home, away\n",
        "    FROM final\n",
        "    WHERE percent_diff < 4.0 AND scheduled_date < '2017-06-01'\n",
        "  ), table1 AS (\n",
        "    SELECT\n",
        "      first_name,\n",
        "      last_name,\n",
        "      team_market,\n",
        "      CASE\n",
        "        WHEN class='FR' THEN 0\n",
        "        WHEN class='SO' THEN 1\n",
        "        WHEN class='JR' THEN 2 \n",
        "        WHEN class='SR' THEN 3\n",
        "        WHEN class='GR' THEN 4\n",
        "        ELSE NULL\n",
        "      END AS class\n",
        "    FROM\n",
        "      `bigquery-public-data.ncaa_basketball.mbb_players_games_sr`\n",
        "    GROUP BY\n",
        "      first_name,\n",
        "      last_name,\n",
        "      team_market,\n",
        "      class\n",
        "  ),class_avgs AS (\n",
        "    SELECT team_market, AVG(class) as avg_class\n",
        "    FROM (SELECT * FROM table1 WHERE class IS NOT NULL)\n",
        "    GROUP BY team_market\n",
        "  ), class_and_percents AS (\n",
        "    SELECT team_market, avg_class, total_win_percent \n",
        "    FROM class_avgs JOIN percents ON percents.team = class_avgs.team_market\n",
        "  ), train as (\n",
        "    SELECT label, IF(total_win_percent_home > total_win_percent_away, 1, 0) AS hometeam_stronger, \n",
        "      attendance, total_win_percent_home, total_win_percent_away, percent_diff, \n",
        "      scheduled_date, avg_class as home_avg_class, away\n",
        "    FROM less_four\n",
        "    JOIN class_and_percents ON class_and_percents.team_market = home\n",
        "  ), train_final as (\n",
        "  SELECT label, IF(total_win_percent_home > total_win_percent_away, 1, 0) AS hometeam_stronger, \n",
        "      total_win_percent_home, total_win_percent_away, percent_diff, \n",
        "      scheduled_date, home_avg_class, avg_class as away_avg_class\n",
        "      FROM train\n",
        "      JOIN class_and_percents ON class_and_percents.team_market = away\n",
        "  )\n",
        "    SELECT * \n",
        "    FROM train_final\n",
        ")"
      ],
      "execution_count": null,
      "outputs": [
        {
          "output_type": "execute_result",
          "data": {
            "text/html": [
              "<div>\n",
              "<style scoped>\n",
              "    .dataframe tbody tr th:only-of-type {\n",
              "        vertical-align: middle;\n",
              "    }\n",
              "\n",
              "    .dataframe tbody tr th {\n",
              "        vertical-align: top;\n",
              "    }\n",
              "\n",
              "    .dataframe thead th {\n",
              "        text-align: right;\n",
              "    }\n",
              "</style>\n",
              "<table border=\"1\" class=\"dataframe\">\n",
              "  <thead>\n",
              "    <tr style=\"text-align: right;\">\n",
              "      <th></th>\n",
              "    </tr>\n",
              "  </thead>\n",
              "  <tbody>\n",
              "  </tbody>\n",
              "</table>\n",
              "</div>"
            ],
            "text/plain": [
              "Empty DataFrame\n",
              "Columns: []\n",
              "Index: []"
            ]
          },
          "metadata": {},
          "execution_count": 22
        }
      ]
    },
    {
      "cell_type": "code",
      "metadata": {
        "id": "3VDTvsLQpUy6",
        "colab": {
          "base_uri": "https://localhost:8080/",
          "height": 142
        },
        "outputId": "ecbfee49-22bc-460c-b2a9-2c34513aea6d"
      },
      "source": [
        "%%bigquery --project $project_id\n",
        "\n",
        "# Run cell to view training stats\n",
        "\n",
        "SELECT\n",
        "  *\n",
        "FROM\n",
        "  ML.TRAINING_INFO(MODEL `zmy_model.mod`)"
      ],
      "execution_count": null,
      "outputs": [
        {
          "output_type": "execute_result",
          "data": {
            "text/html": [
              "<div>\n",
              "<style scoped>\n",
              "    .dataframe tbody tr th:only-of-type {\n",
              "        vertical-align: middle;\n",
              "    }\n",
              "\n",
              "    .dataframe tbody tr th {\n",
              "        vertical-align: top;\n",
              "    }\n",
              "\n",
              "    .dataframe thead th {\n",
              "        text-align: right;\n",
              "    }\n",
              "</style>\n",
              "<table border=\"1\" class=\"dataframe\">\n",
              "  <thead>\n",
              "    <tr style=\"text-align: right;\">\n",
              "      <th></th>\n",
              "      <th>training_run</th>\n",
              "      <th>iteration</th>\n",
              "      <th>loss</th>\n",
              "      <th>eval_loss</th>\n",
              "      <th>learning_rate</th>\n",
              "      <th>duration_ms</th>\n",
              "    </tr>\n",
              "  </thead>\n",
              "  <tbody>\n",
              "    <tr>\n",
              "      <th>0</th>\n",
              "      <td>0</td>\n",
              "      <td>2</td>\n",
              "      <td>0.607438</td>\n",
              "      <td>0.662458</td>\n",
              "      <td>0.8</td>\n",
              "      <td>2265</td>\n",
              "    </tr>\n",
              "    <tr>\n",
              "      <th>1</th>\n",
              "      <td>0</td>\n",
              "      <td>1</td>\n",
              "      <td>0.647034</td>\n",
              "      <td>0.672961</td>\n",
              "      <td>0.4</td>\n",
              "      <td>2443</td>\n",
              "    </tr>\n",
              "    <tr>\n",
              "      <th>2</th>\n",
              "      <td>0</td>\n",
              "      <td>0</td>\n",
              "      <td>0.675783</td>\n",
              "      <td>0.684876</td>\n",
              "      <td>0.2</td>\n",
              "      <td>2166</td>\n",
              "    </tr>\n",
              "  </tbody>\n",
              "</table>\n",
              "</div>"
            ],
            "text/plain": [
              "   training_run  iteration      loss  eval_loss  learning_rate  duration_ms\n",
              "0             0          2  0.607438   0.662458            0.8         2265\n",
              "1             0          1  0.647034   0.672961            0.4         2443\n",
              "2             0          0  0.675783   0.684876            0.2         2166"
            ]
          },
          "metadata": {},
          "execution_count": 23
        }
      ]
    },
    {
      "cell_type": "code",
      "metadata": {
        "id": "NPUsi6yPpU0b",
        "colab": {
          "base_uri": "https://localhost:8080/",
          "height": 80
        },
        "cellView": "form",
        "outputId": "95abbb00-f7ea-4046-e9e8-2dda65564c39"
      },
      "source": [
        "#@title Evaluate: Player Class\n",
        "%%bigquery --project $project_id\n",
        "#EVALUATE\n",
        "SELECT\n",
        "  *\n",
        "FROM ML.EVALUATE(MODEL `zmy_model.mod`, ( \n",
        "  WITH won_home as ( # get wins and losses when team is home\n",
        "    SELECT sr.h_market as home_team, IF(sr.h_points_game > sr.a_points_game, 1, 0) as win\n",
        "    FROM `bigquery-public-data.ncaa_basketball.mbb_games_sr` as sr\n",
        "  ), win_h_percentage as ( # win percentage of team as away team\n",
        "    SELECT home_team, ROUND(100.0 * SUM(win) / COUNT(win), 2) as win_percent_as_home, SUM(win) as home_wins, COUNT(win) as home_played\n",
        "    FROM won_home\n",
        "    GROUP BY home_team\n",
        "    HAVING COUNT(win) > 0 #so at least 1 game played at home\n",
        "  ), won_away as (\n",
        "    SELECT sr.a_market as away_team, IF(sr.h_points_game < sr.a_points_game, 1, 0) as win\n",
        "    FROM `bigquery-public-data.ncaa_basketball.mbb_games_sr` as sr\n",
        "  ), win_a_percentage as ( # win percentage of team as away team\n",
        "    SELECT away_team, ROUND(100.0 * SUM(win) / COUNT(win), 2) as win_percent_as_away, SUM(win) as away_wins, COUNT(win) as away_played\n",
        "    FROM won_away\n",
        "    GROUP BY away_team\n",
        "    HAVING COUNT(win) > 0 #so at least 1 game played at away\n",
        "  ), percents as (\n",
        "    SELECT win_percent_as_home, win_percent_as_away,\n",
        "    ROUND(100.0 * (home_wins + away_wins) / (away_played + home_played), 2) as total_win_percent, home_team as team\n",
        "    FROM win_h_percentage\n",
        "    JOIN win_a_percentage ON away_team = home_team\n",
        "    WHERE win_percent_as_home > 0.0 OR win_percent_as_away > 0.0 #gets rid of teams that didn't win at all (13 rows)\n",
        "  ), percents2 as (\n",
        "    SELECT *\n",
        "    FROM percents\n",
        "  ), matchups as (\n",
        "    SELECT DISTINCT(game_id), sr.h_market as home, sr.a_market as away,\n",
        "      percents.total_win_percent as total_win_percent_home, percents2.total_win_percent as total_win_percent_away,\n",
        "      ABS(percents.total_win_percent - percents2.total_win_percent) as percent_diff, h_points_game, a_points_game\n",
        "    FROM percents, percents2, `bigquery-public-data.ncaa_basketball.mbb_games_sr` as sr\n",
        "    WHERE sr.h_market = percents.team AND sr.a_market = percents2.team\n",
        "      AND ABS(percents.total_win_percent - percents2.total_win_percent) < 5\n",
        "  ), even_matches AS (\n",
        "    SELECT sr.attendance, matchups.game_id, home, away, \n",
        "    total_win_percent_home, total_win_percent_away, percent_diff,\n",
        "    IF(matchups.h_points_game > matchups.a_points_game, 1, 0) as home_win, \n",
        "    scheduled_date \n",
        "    FROM `bigquery-public-data.ncaa_basketball.mbb_teams_games_sr` sr \n",
        "    JOIN matchups ON matchups.game_id = sr.game_id\n",
        "  ), final as (\n",
        "  SELECT DISTINCT(game_id), attendance, home, away,\n",
        "    total_win_percent_home, total_win_percent_away, percent_diff, home_win,\n",
        "    scheduled_date\n",
        "  FROM even_matches\n",
        "  WHERE attendance IS NOT NULL\n",
        "  ), less_four as ( # WHAT WE ARE CHANGING\n",
        "    SELECT home_win as label, IF(total_win_percent_home > total_win_percent_away, 1, 0) AS hometeam_stronger, \n",
        "      attendance, total_win_percent_home, total_win_percent_away, percent_diff, \n",
        "      scheduled_date, home, away\n",
        "    FROM final\n",
        "    WHERE percent_diff < 4.0 AND '2017-06-01' < scheduled_date AND scheduled_date < '2018-03-28'\n",
        "  ), table1 AS (\n",
        "    SELECT\n",
        "      first_name,\n",
        "      last_name,\n",
        "      team_market,\n",
        "      CASE\n",
        "        WHEN class='FR' THEN 0\n",
        "        WHEN class='SO' THEN 1\n",
        "        WHEN class='JR' THEN 2 \n",
        "        WHEN class='SR' THEN 3\n",
        "        WHEN class='GR' THEN 4\n",
        "        ELSE NULL\n",
        "      END AS class\n",
        "    FROM\n",
        "      `bigquery-public-data.ncaa_basketball.mbb_players_games_sr`\n",
        "    GROUP BY\n",
        "      first_name,\n",
        "      last_name,\n",
        "      team_market,\n",
        "      class\n",
        "  ),class_avgs AS (\n",
        "    SELECT team_market, AVG(class) as avg_class\n",
        "    FROM (SELECT * FROM table1 WHERE class IS NOT NULL)\n",
        "    GROUP BY team_market\n",
        "  ), class_and_percents AS (\n",
        "    SELECT team_market, avg_class, total_win_percent \n",
        "    FROM class_avgs JOIN percents ON percents.team = class_avgs.team_market\n",
        "  ), train as (\n",
        "    SELECT label, IF(total_win_percent_home > total_win_percent_away, 1, 0) AS hometeam_stronger, \n",
        "      attendance, total_win_percent_home, total_win_percent_away, percent_diff, \n",
        "      scheduled_date, avg_class as home_avg_class, away\n",
        "    FROM less_four\n",
        "    JOIN class_and_percents ON class_and_percents.team_market = home\n",
        "  ), train_final as (\n",
        "  SELECT label, IF(total_win_percent_home > total_win_percent_away, 1, 0) AS hometeam_stronger, \n",
        "      total_win_percent_home, total_win_percent_away, percent_diff, \n",
        "      scheduled_date, home_avg_class, avg_class as away_avg_class\n",
        "      FROM train\n",
        "      JOIN class_and_percents ON class_and_percents.team_market = away\n",
        "  )\n",
        "    SELECT * \n",
        "    FROM train_final\n",
        "))"
      ],
      "execution_count": null,
      "outputs": [
        {
          "output_type": "execute_result",
          "data": {
            "text/html": [
              "<div>\n",
              "<style scoped>\n",
              "    .dataframe tbody tr th:only-of-type {\n",
              "        vertical-align: middle;\n",
              "    }\n",
              "\n",
              "    .dataframe tbody tr th {\n",
              "        vertical-align: top;\n",
              "    }\n",
              "\n",
              "    .dataframe thead th {\n",
              "        text-align: right;\n",
              "    }\n",
              "</style>\n",
              "<table border=\"1\" class=\"dataframe\">\n",
              "  <thead>\n",
              "    <tr style=\"text-align: right;\">\n",
              "      <th></th>\n",
              "      <th>precision</th>\n",
              "      <th>recall</th>\n",
              "      <th>accuracy</th>\n",
              "      <th>f1_score</th>\n",
              "      <th>log_loss</th>\n",
              "      <th>roc_auc</th>\n",
              "    </tr>\n",
              "  </thead>\n",
              "  <tbody>\n",
              "    <tr>\n",
              "      <th>0</th>\n",
              "      <td>0.659398</td>\n",
              "      <td>0.982972</td>\n",
              "      <td>0.653019</td>\n",
              "      <td>0.78931</td>\n",
              "      <td>0.670868</td>\n",
              "      <td>0.518704</td>\n",
              "    </tr>\n",
              "  </tbody>\n",
              "</table>\n",
              "</div>"
            ],
            "text/plain": [
              "   precision    recall  accuracy  f1_score  log_loss   roc_auc\n",
              "0   0.659398  0.982972  0.653019   0.78931  0.670868  0.518704"
            ]
          },
          "metadata": {},
          "execution_count": 24
        }
      ]
    },
    {
      "cell_type": "code",
      "metadata": {
        "id": "FRFivO7FpU36",
        "cellView": "form"
      },
      "source": [
        "#@title Predict: Player Class\n",
        "%%bigquery --project $project_id\n",
        "#PREDICT\n",
        "SELECT\n",
        "  *\n",
        "FROM ML.PREDICT(MODEL `zmy_model.mod`, ( \n",
        "  WITH won_home as ( # get wins and losses when team is home\n",
        "    SELECT sr.h_market as home_team, IF(sr.h_points_game > sr.a_points_game, 1, 0) as win\n",
        "    FROM `bigquery-public-data.ncaa_basketball.mbb_games_sr` as sr\n",
        "  ), win_h_percentage as ( # win percentage of team as away team\n",
        "    SELECT home_team, ROUND(100.0 * SUM(win) / COUNT(win), 2) as win_percent_as_home, SUM(win) as home_wins, COUNT(win) as home_played\n",
        "    FROM won_home\n",
        "    GROUP BY home_team\n",
        "    HAVING COUNT(win) > 0 #so at least 1 game played at home\n",
        "  ), won_away as (\n",
        "    SELECT sr.a_market as away_team, IF(sr.h_points_game < sr.a_points_game, 1, 0) as win\n",
        "    FROM `bigquery-public-data.ncaa_basketball.mbb_games_sr` as sr\n",
        "  ), win_a_percentage as ( # win percentage of team as away team\n",
        "    SELECT away_team, ROUND(100.0 * SUM(win) / COUNT(win), 2) as win_percent_as_away, SUM(win) as away_wins, COUNT(win) as away_played\n",
        "    FROM won_away\n",
        "    GROUP BY away_team\n",
        "    HAVING COUNT(win) > 0 #so at least 1 game played at away\n",
        "  ), percents as (\n",
        "    SELECT win_percent_as_home, win_percent_as_away,\n",
        "    ROUND(100.0 * (home_wins + away_wins) / (away_played + home_played), 2) as total_win_percent, home_team as team\n",
        "    FROM win_h_percentage\n",
        "    JOIN win_a_percentage ON away_team = home_team\n",
        "    WHERE win_percent_as_home > 0.0 OR win_percent_as_away > 0.0 #gets rid of teams that didn't win at all (13 rows)\n",
        "  ), percents2 as (\n",
        "    SELECT *\n",
        "    FROM percents\n",
        "  ), matchups as (\n",
        "    SELECT DISTINCT(game_id), sr.h_market as home, sr.a_market as away,\n",
        "      percents.total_win_percent as total_win_percent_home, percents2.total_win_percent as total_win_percent_away,\n",
        "      ABS(percents.total_win_percent - percents2.total_win_percent) as percent_diff, h_points_game, a_points_game\n",
        "    FROM percents, percents2, `bigquery-public-data.ncaa_basketball.mbb_games_sr` as sr\n",
        "    WHERE sr.h_market = percents.team AND sr.a_market = percents2.team\n",
        "      AND ABS(percents.total_win_percent - percents2.total_win_percent) < 5\n",
        "  ), even_matches AS (\n",
        "    SELECT sr.attendance, matchups.game_id, home, away, \n",
        "    total_win_percent_home, total_win_percent_away, percent_diff,\n",
        "    IF(matchups.h_points_game > matchups.a_points_game, 1, 0) as home_win, \n",
        "    scheduled_date \n",
        "    FROM `bigquery-public-data.ncaa_basketball.mbb_teams_games_sr` sr \n",
        "    JOIN matchups ON matchups.game_id = sr.game_id\n",
        "  ), final as (\n",
        "  SELECT DISTINCT(game_id), attendance, home, away,\n",
        "    total_win_percent_home, total_win_percent_away, percent_diff, home_win,\n",
        "    scheduled_date\n",
        "  FROM even_matches\n",
        "  WHERE attendance IS NOT NULL\n",
        "  ), less_four as ( # WHAT WE ARE CHANGING\n",
        "    SELECT home_win as label, IF(total_win_percent_home > total_win_percent_away, 1, 0) AS hometeam_stronger, \n",
        "      attendance, total_win_percent_home, total_win_percent_away, percent_diff, \n",
        "      scheduled_date, home, away\n",
        "    FROM final\n",
        "    WHERE 4.0 <= percent_diff  AND percent_diff < 5.0 #unseen data\n",
        "  ), table1 AS (\n",
        "    SELECT\n",
        "      first_name,\n",
        "      last_name,\n",
        "      team_market,\n",
        "      CASE\n",
        "        WHEN class='FR' THEN 0\n",
        "        WHEN class='SO' THEN 1\n",
        "        WHEN class='JR' THEN 2 \n",
        "        WHEN class='SR' THEN 3\n",
        "        WHEN class='GR' THEN 4\n",
        "        ELSE NULL\n",
        "      END AS class\n",
        "    FROM\n",
        "      `bigquery-public-data.ncaa_basketball.mbb_players_games_sr`\n",
        "    GROUP BY\n",
        "      first_name,\n",
        "      last_name,\n",
        "      team_market,\n",
        "      class\n",
        "  ),class_avgs AS (\n",
        "    SELECT team_market, AVG(class) as avg_class\n",
        "    FROM (SELECT * FROM table1 WHERE class IS NOT NULL)\n",
        "    GROUP BY team_market\n",
        "  ), class_and_percents AS (\n",
        "    SELECT team_market, avg_class, total_win_percent \n",
        "    FROM class_avgs JOIN percents ON percents.team = class_avgs.team_market\n",
        "  ), train as (\n",
        "    SELECT label, IF(total_win_percent_home > total_win_percent_away, 1, 0) AS hometeam_stronger, \n",
        "      attendance, total_win_percent_home, total_win_percent_away, percent_diff, \n",
        "      scheduled_date, avg_class as home_avg_class, away\n",
        "    FROM less_four\n",
        "    JOIN class_and_percents ON class_and_percents.team_market = home\n",
        "  ), train_final as (\n",
        "  SELECT label, IF(total_win_percent_home > total_win_percent_away, 1, 0) AS hometeam_stronger, \n",
        "       total_win_percent_home, total_win_percent_away, percent_diff, \n",
        "      scheduled_date, home_avg_class, avg_class as away_avg_class\n",
        "      FROM train\n",
        "      JOIN class_and_percents ON class_and_percents.team_market = away\n",
        "  )\n",
        "    SELECT * \n",
        "    FROM train_final\n",
        "))"
      ],
      "execution_count": null,
      "outputs": []
    },
    {
      "cell_type": "markdown",
      "metadata": {
        "id": "sMvg0Sg3rQoX"
      },
      "source": [
        "## Model with Attendance "
      ]
    },
    {
      "cell_type": "code",
      "metadata": {
        "id": "c_Rz6elJpU6S",
        "cellView": "form"
      },
      "source": [
        "#@title Query: Attendance \n",
        "%%bigquery --project $project_id \n",
        "\n",
        "WITH won_home as ( # get wins and losses when team is home\n",
        "  SELECT sr.h_market as home_team, IF(sr.h_points_game > sr.a_points_game, 1, 0) as win\n",
        "  FROM `bigquery-public-data.ncaa_basketball.mbb_games_sr` as sr\n",
        "), win_h_percentage as ( # win percentage of team as away team\n",
        "  SELECT home_team, ROUND(100.0 * SUM(win) / COUNT(win), 2) as win_percent_as_home, SUM(win) as home_wins, COUNT(win) as home_played\n",
        "  FROM won_home\n",
        "  GROUP BY home_team\n",
        "  HAVING COUNT(win) > 0 #so at least 1 game played at home\n",
        "), won_away as (\n",
        "  SELECT sr.a_market as away_team, IF(sr.h_points_game < sr.a_points_game, 1, 0) as win\n",
        "  FROM `bigquery-public-data.ncaa_basketball.mbb_games_sr` as sr\n",
        "), win_a_percentage as ( # win percentage of team as away team\n",
        "  SELECT away_team, ROUND(100.0 * SUM(win) / COUNT(win), 2) as win_percent_as_away, SUM(win) as away_wins, COUNT(win) as away_played\n",
        "  FROM won_away\n",
        "  GROUP BY away_team\n",
        "  HAVING COUNT(win) > 0 #so at least 1 game played at away\n",
        "), percents as (\n",
        "  SELECT win_percent_as_home, win_percent_as_away,\n",
        "  ROUND(100.0 * (home_wins + away_wins) / (away_played + home_played), 2) as total_win_percent, home_team as team\n",
        "  FROM win_h_percentage\n",
        "  JOIN win_a_percentage ON away_team = home_team\n",
        "  WHERE win_percent_as_home > 0.0 OR win_percent_as_away > 0.0 #gets rid of teams that didn't win at all (13 rows)\n",
        "), percents2 as (\n",
        "  SELECT *\n",
        "  FROM percents\n",
        "), matchups as (\n",
        "  SELECT DISTINCT(game_id), sr.h_market as home, sr.a_market as away,\n",
        "    percents.total_win_percent as total_win_percent_home, percents2.total_win_percent as total_win_percent_away,\n",
        "    ABS(percents.total_win_percent - percents2.total_win_percent) as percent_diff, h_points_game, a_points_game\n",
        "  FROM percents, percents2, `bigquery-public-data.ncaa_basketball.mbb_games_sr` as sr\n",
        "  WHERE sr.h_market = percents.team AND sr.a_market = percents2.team\n",
        "    AND ABS(percents.total_win_percent - percents2.total_win_percent) < 5\n",
        "), even_matches AS (\n",
        "  SELECT sr.attendance, matchups.game_id, home, away, \n",
        "   total_win_percent_home, total_win_percent_away, percent_diff,\n",
        "   IF(matchups.h_points_game > matchups.a_points_game, 1, 0) as home_win, \n",
        "   scheduled_date \n",
        "  FROM `bigquery-public-data.ncaa_basketball.mbb_teams_games_sr` sr \n",
        "  JOIN matchups ON matchups.game_id = sr.game_id\n",
        "), final as (\n",
        "SELECT DISTINCT(game_id), attendance, home, away,\n",
        "  total_win_percent_home, total_win_percent_away, percent_diff, home_win,\n",
        "  scheduled_date\n",
        "FROM even_matches\n",
        "WHERE attendance IS NOT NULL\n",
        "), less_four as (\n",
        "  SELECT home_win as label, IF(total_win_percent_home > total_win_percent_away, 1, 0) AS hometeam_stronger, \n",
        "    attendance, total_win_percent_home, total_win_percent_away, percent_diff, \n",
        "    scheduled_date\n",
        "  FROM final\n",
        "  WHERE percent_diff < 4.0\n",
        ")\n",
        "SELECT *\n",
        "FROM less_four\n",
        "\n",
        "\n",
        "\n",
        "\n"
      ],
      "execution_count": null,
      "outputs": []
    },
    {
      "cell_type": "code",
      "metadata": {
        "colab": {
          "base_uri": "https://localhost:8080/"
        },
        "id": "ebmNWKazrP1i",
        "outputId": "fbb8b4c9-367b-4839-a14c-99d1c13551ab"
      },
      "source": [
        "model_dataset_name = 'zattend_mod'\n",
        "\n",
        "dataset = bigquery.Dataset(client.dataset(model_dataset_name))\n",
        "dataset.location = 'US'\n",
        "client.create_dataset(dataset)"
      ],
      "execution_count": null,
      "outputs": [
        {
          "output_type": "execute_result",
          "data": {
            "text/plain": [
              "Dataset(DatasetReference('project3-334106', 'zattend_mod'))"
            ]
          },
          "metadata": {},
          "execution_count": 27
        }
      ]
    },
    {
      "cell_type": "code",
      "metadata": {
        "colab": {
          "base_uri": "https://localhost:8080/",
          "height": 32
        },
        "cellView": "form",
        "id": "21GEOraArP4q",
        "outputId": "eaf904dd-7da2-4218-b1bb-498493684512"
      },
      "source": [
        "#@title Create Model: Attendance \n",
        "%%bigquery --project $project_id\n",
        "\n",
        "CREATE OR REPLACE MODEL `zattend_mod.attendance_m` -- we'll call our model 'attendance_m'\n",
        "OPTIONS (model_type='logistic_reg') AS ( \n",
        "  WITH won_home as ( # get wins and losses when team is home\n",
        "    SELECT sr.h_market as home_team, IF(sr.h_points_game > sr.a_points_game, 1, 0) as win\n",
        "    FROM `bigquery-public-data.ncaa_basketball.mbb_games_sr` as sr\n",
        "  ), win_h_percentage as ( # win percentage of team as away team\n",
        "    SELECT home_team, ROUND(100.0 * SUM(win) / COUNT(win), 2) as win_percent_as_home, SUM(win) as home_wins, COUNT(win) as home_played\n",
        "    FROM won_home\n",
        "    GROUP BY home_team\n",
        "    HAVING COUNT(win) > 0 #so at least 1 game played at home\n",
        "  ), won_away as (\n",
        "    SELECT sr.a_market as away_team, IF(sr.h_points_game < sr.a_points_game, 1, 0) as win\n",
        "    FROM `bigquery-public-data.ncaa_basketball.mbb_games_sr` as sr\n",
        "  ), win_a_percentage as ( # win percentage of team as away team\n",
        "    SELECT away_team, ROUND(100.0 * SUM(win) / COUNT(win), 2) as win_percent_as_away, SUM(win) as away_wins, COUNT(win) as away_played\n",
        "    FROM won_away\n",
        "    GROUP BY away_team\n",
        "    HAVING COUNT(win) > 0 #so at least 1 game played at away\n",
        "  ), percents as (\n",
        "    SELECT win_percent_as_home, win_percent_as_away,\n",
        "    ROUND(100.0 * (home_wins + away_wins) / (away_played + home_played), 2) as total_win_percent, home_team as team\n",
        "    FROM win_h_percentage\n",
        "    JOIN win_a_percentage ON away_team = home_team\n",
        "    WHERE win_percent_as_home > 0.0 OR win_percent_as_away > 0.0 #gets rid of teams that didn't win at all (13 rows)\n",
        "  ), percents2 as (\n",
        "    SELECT *\n",
        "    FROM percents\n",
        "  ), matchups as (\n",
        "    SELECT DISTINCT(game_id), sr.h_market as home, sr.a_market as away,\n",
        "      percents.total_win_percent as total_win_percent_home, percents2.total_win_percent as total_win_percent_away,\n",
        "      ABS(percents.total_win_percent - percents2.total_win_percent) as percent_diff, h_points_game, a_points_game\n",
        "    FROM percents, percents2, `bigquery-public-data.ncaa_basketball.mbb_games_sr` as sr\n",
        "    WHERE sr.h_market = percents.team AND sr.a_market = percents2.team\n",
        "      AND ABS(percents.total_win_percent - percents2.total_win_percent) < 5\n",
        "  ), even_matches AS (\n",
        "    SELECT sr.attendance, matchups.game_id, home, away, \n",
        "    total_win_percent_home, total_win_percent_away, percent_diff,\n",
        "    IF(matchups.h_points_game > matchups.a_points_game, 1, 0) as home_win, \n",
        "    scheduled_date \n",
        "    FROM `bigquery-public-data.ncaa_basketball.mbb_teams_games_sr` sr \n",
        "    JOIN matchups ON matchups.game_id = sr.game_id\n",
        "  ), final as (\n",
        "  SELECT DISTINCT(game_id), attendance, home, away,\n",
        "    total_win_percent_home, total_win_percent_away, percent_diff, home_win,\n",
        "    scheduled_date\n",
        "  FROM even_matches\n",
        "  WHERE attendance IS NOT NULL\n",
        "  )\n",
        "  SELECT home_win as label, IF(total_win_percent_home > total_win_percent_away, 1, 0) AS hometeam_stronger, \n",
        "    attendance, total_win_percent_home, total_win_percent_away, percent_diff,\n",
        "    scheduled_date\n",
        "  FROM final\n",
        "  WHERE percent_diff < 4.0 AND scheduled_date < '2017-06-01'\n",
        ")"
      ],
      "execution_count": null,
      "outputs": [
        {
          "output_type": "execute_result",
          "data": {
            "text/html": [
              "<div>\n",
              "<style scoped>\n",
              "    .dataframe tbody tr th:only-of-type {\n",
              "        vertical-align: middle;\n",
              "    }\n",
              "\n",
              "    .dataframe tbody tr th {\n",
              "        vertical-align: top;\n",
              "    }\n",
              "\n",
              "    .dataframe thead th {\n",
              "        text-align: right;\n",
              "    }\n",
              "</style>\n",
              "<table border=\"1\" class=\"dataframe\">\n",
              "  <thead>\n",
              "    <tr style=\"text-align: right;\">\n",
              "      <th></th>\n",
              "    </tr>\n",
              "  </thead>\n",
              "  <tbody>\n",
              "  </tbody>\n",
              "</table>\n",
              "</div>"
            ],
            "text/plain": [
              "Empty DataFrame\n",
              "Columns: []\n",
              "Index: []"
            ]
          },
          "metadata": {},
          "execution_count": 28
        }
      ]
    },
    {
      "cell_type": "code",
      "metadata": {
        "id": "nH4AD8G5pU75",
        "colab": {
          "base_uri": "https://localhost:8080/",
          "height": 173
        },
        "outputId": "f7e1fbc6-23f8-4858-c8b5-dee5c32a38fc"
      },
      "source": [
        "%%bigquery --project $project_id\n",
        "\n",
        "# Run cell to view training stats\n",
        "\n",
        "SELECT\n",
        "  *\n",
        "FROM\n",
        "  ML.TRAINING_INFO(MODEL `zattend_mod.attendance_m`)"
      ],
      "execution_count": null,
      "outputs": [
        {
          "output_type": "execute_result",
          "data": {
            "text/html": [
              "<div>\n",
              "<style scoped>\n",
              "    .dataframe tbody tr th:only-of-type {\n",
              "        vertical-align: middle;\n",
              "    }\n",
              "\n",
              "    .dataframe tbody tr th {\n",
              "        vertical-align: top;\n",
              "    }\n",
              "\n",
              "    .dataframe thead th {\n",
              "        text-align: right;\n",
              "    }\n",
              "</style>\n",
              "<table border=\"1\" class=\"dataframe\">\n",
              "  <thead>\n",
              "    <tr style=\"text-align: right;\">\n",
              "      <th></th>\n",
              "      <th>training_run</th>\n",
              "      <th>iteration</th>\n",
              "      <th>loss</th>\n",
              "      <th>eval_loss</th>\n",
              "      <th>learning_rate</th>\n",
              "      <th>duration_ms</th>\n",
              "    </tr>\n",
              "  </thead>\n",
              "  <tbody>\n",
              "    <tr>\n",
              "      <th>0</th>\n",
              "      <td>0</td>\n",
              "      <td>3</td>\n",
              "      <td>0.573726</td>\n",
              "      <td>0.647058</td>\n",
              "      <td>1.6</td>\n",
              "      <td>3092</td>\n",
              "    </tr>\n",
              "    <tr>\n",
              "      <th>1</th>\n",
              "      <td>0</td>\n",
              "      <td>2</td>\n",
              "      <td>0.611464</td>\n",
              "      <td>0.649780</td>\n",
              "      <td>0.8</td>\n",
              "      <td>2252</td>\n",
              "    </tr>\n",
              "    <tr>\n",
              "      <th>2</th>\n",
              "      <td>0</td>\n",
              "      <td>1</td>\n",
              "      <td>0.649168</td>\n",
              "      <td>0.666504</td>\n",
              "      <td>0.4</td>\n",
              "      <td>4169</td>\n",
              "    </tr>\n",
              "    <tr>\n",
              "      <th>3</th>\n",
              "      <td>0</td>\n",
              "      <td>0</td>\n",
              "      <td>0.676575</td>\n",
              "      <td>0.682506</td>\n",
              "      <td>0.2</td>\n",
              "      <td>2228</td>\n",
              "    </tr>\n",
              "  </tbody>\n",
              "</table>\n",
              "</div>"
            ],
            "text/plain": [
              "   training_run  iteration      loss  eval_loss  learning_rate  duration_ms\n",
              "0             0          3  0.573726   0.647058            1.6         3092\n",
              "1             0          2  0.611464   0.649780            0.8         2252\n",
              "2             0          1  0.649168   0.666504            0.4         4169\n",
              "3             0          0  0.676575   0.682506            0.2         2228"
            ]
          },
          "metadata": {},
          "execution_count": 29
        }
      ]
    },
    {
      "cell_type": "code",
      "metadata": {
        "colab": {
          "base_uri": "https://localhost:8080/",
          "height": 80
        },
        "cellView": "form",
        "id": "n3XFkpLFrj_C",
        "outputId": "e506f359-07b4-4d19-c9b5-ed4d03ff60f9"
      },
      "source": [
        "#@title Evaluate: Attendance \n",
        "%%bigquery --project $project_id\n",
        "#EVALUATE\n",
        "SELECT\n",
        "  *\n",
        "FROM ML.EVALUATE(MODEL `zattend_mod.attendance_m`, ( \n",
        "  WITH won_home as ( # get wins and losses when team is home\n",
        "    SELECT sr.h_market as home_team, IF(sr.h_points_game > sr.a_points_game, 1, 0) as win\n",
        "    FROM `bigquery-public-data.ncaa_basketball.mbb_games_sr` as sr\n",
        "  ), win_h_percentage as ( # win percentage of team as away team\n",
        "    SELECT home_team, ROUND(100.0 * SUM(win) / COUNT(win), 2) as win_percent_as_home, SUM(win) as home_wins, COUNT(win) as home_played\n",
        "    FROM won_home\n",
        "    GROUP BY home_team\n",
        "    HAVING COUNT(win) > 0 #so at least 1 game played at home\n",
        "  ), won_away as (\n",
        "    SELECT sr.a_market as away_team, IF(sr.h_points_game < sr.a_points_game, 1, 0) as win\n",
        "    FROM `bigquery-public-data.ncaa_basketball.mbb_games_sr` as sr\n",
        "  ), win_a_percentage as ( # win percentage of team as away team\n",
        "    SELECT away_team, ROUND(100.0 * SUM(win) / COUNT(win), 2) as win_percent_as_away, SUM(win) as away_wins, COUNT(win) as away_played\n",
        "    FROM won_away\n",
        "    GROUP BY away_team\n",
        "    HAVING COUNT(win) > 0 #so at least 1 game played at away\n",
        "  ), percents as (\n",
        "    SELECT win_percent_as_home, win_percent_as_away,\n",
        "    ROUND(100.0 * (home_wins + away_wins) / (away_played + home_played), 2) as total_win_percent, home_team as team\n",
        "    FROM win_h_percentage\n",
        "    JOIN win_a_percentage ON away_team = home_team\n",
        "    WHERE win_percent_as_home > 0.0 OR win_percent_as_away > 0.0 #gets rid of teams that didn't win at all (13 rows)\n",
        "  ), percents2 as (\n",
        "    SELECT *\n",
        "    FROM percents\n",
        "  ), matchups as (\n",
        "    SELECT DISTINCT(game_id), sr.h_market as home, sr.a_market as away,\n",
        "      percents.total_win_percent as total_win_percent_home, percents2.total_win_percent as total_win_percent_away,\n",
        "      ABS(percents.total_win_percent - percents2.total_win_percent) as percent_diff, h_points_game, a_points_game\n",
        "    FROM percents, percents2, `bigquery-public-data.ncaa_basketball.mbb_games_sr` as sr\n",
        "    WHERE sr.h_market = percents.team AND sr.a_market = percents2.team\n",
        "      AND ABS(percents.total_win_percent - percents2.total_win_percent) < 5\n",
        "  ), even_matches AS (\n",
        "    SELECT sr.attendance, matchups.game_id, home, away, \n",
        "    total_win_percent_home, total_win_percent_away, percent_diff,\n",
        "    IF(matchups.h_points_game > matchups.a_points_game, 1, 0) as home_win, \n",
        "    scheduled_date \n",
        "    FROM `bigquery-public-data.ncaa_basketball.mbb_teams_games_sr` sr \n",
        "    JOIN matchups ON matchups.game_id = sr.game_id\n",
        "  ), final as (\n",
        "  SELECT DISTINCT(game_id), attendance, home, away,\n",
        "    total_win_percent_home, total_win_percent_away, percent_diff, home_win,\n",
        "    scheduled_date\n",
        "  FROM even_matches\n",
        "  WHERE attendance IS NOT NULL\n",
        "  )\n",
        "  SELECT home_win as label, IF(total_win_percent_home > total_win_percent_away, 1, 0) AS hometeam_stronger, \n",
        "    attendance, total_win_percent_home, total_win_percent_away, percent_diff,\n",
        "    scheduled_date\n",
        "  FROM final\n",
        "  WHERE percent_diff < 4.0 AND '2017-06-01' < scheduled_date AND scheduled_date < '2018-03-28'\n",
        "))"
      ],
      "execution_count": null,
      "outputs": [
        {
          "output_type": "execute_result",
          "data": {
            "text/html": [
              "<div>\n",
              "<style scoped>\n",
              "    .dataframe tbody tr th:only-of-type {\n",
              "        vertical-align: middle;\n",
              "    }\n",
              "\n",
              "    .dataframe tbody tr th {\n",
              "        vertical-align: top;\n",
              "    }\n",
              "\n",
              "    .dataframe thead th {\n",
              "        text-align: right;\n",
              "    }\n",
              "</style>\n",
              "<table border=\"1\" class=\"dataframe\">\n",
              "  <thead>\n",
              "    <tr style=\"text-align: right;\">\n",
              "      <th></th>\n",
              "      <th>precision</th>\n",
              "      <th>recall</th>\n",
              "      <th>accuracy</th>\n",
              "      <th>f1_score</th>\n",
              "      <th>log_loss</th>\n",
              "      <th>roc_auc</th>\n",
              "    </tr>\n",
              "  </thead>\n",
              "  <tbody>\n",
              "    <tr>\n",
              "      <th>0</th>\n",
              "      <td>0.662148</td>\n",
              "      <td>0.982972</td>\n",
              "      <td>0.657114</td>\n",
              "      <td>0.791277</td>\n",
              "      <td>0.659645</td>\n",
              "      <td>0.538984</td>\n",
              "    </tr>\n",
              "  </tbody>\n",
              "</table>\n",
              "</div>"
            ],
            "text/plain": [
              "   precision    recall  accuracy  f1_score  log_loss   roc_auc\n",
              "0   0.662148  0.982972  0.657114  0.791277  0.659645  0.538984"
            ]
          },
          "metadata": {},
          "execution_count": 30
        }
      ]
    },
    {
      "cell_type": "code",
      "metadata": {
        "cellView": "form",
        "id": "YA18lLZSrkBh"
      },
      "source": [
        "#@title Predict: Attendance\n",
        "%%bigquery --project $project_id\n",
        "#PREDICT\n",
        "SELECT\n",
        "  *\n",
        "FROM ML.PREDICT(MODEL `zattend_mod.attendance_m`, ( \n",
        "  WITH won_home as ( # get wins and losses when team is home\n",
        "    SELECT sr.h_market as home_team, IF(sr.h_points_game > sr.a_points_game, 1, 0) as win\n",
        "    FROM `bigquery-public-data.ncaa_basketball.mbb_games_sr` as sr\n",
        "  ), win_h_percentage as ( # win percentage of team as away team\n",
        "    SELECT home_team, ROUND(100.0 * SUM(win) / COUNT(win), 2) as win_percent_as_home, SUM(win) as home_wins, COUNT(win) as home_played\n",
        "    FROM won_home\n",
        "    GROUP BY home_team\n",
        "    HAVING COUNT(win) > 0 #so at least 1 game played at home\n",
        "  ), won_away as (\n",
        "    SELECT sr.a_market as away_team, IF(sr.h_points_game < sr.a_points_game, 1, 0) as win\n",
        "    FROM `bigquery-public-data.ncaa_basketball.mbb_games_sr` as sr\n",
        "  ), win_a_percentage as ( # win percentage of team as away team\n",
        "    SELECT away_team, ROUND(100.0 * SUM(win) / COUNT(win), 2) as win_percent_as_away, SUM(win) as away_wins, COUNT(win) as away_played\n",
        "    FROM won_away\n",
        "    GROUP BY away_team\n",
        "    HAVING COUNT(win) > 0 #so at least 1 game played at away\n",
        "  ), percents as (\n",
        "    SELECT win_percent_as_home, win_percent_as_away,\n",
        "    ROUND(100.0 * (home_wins + away_wins) / (away_played + home_played), 2) as total_win_percent, home_team as team\n",
        "    FROM win_h_percentage\n",
        "    JOIN win_a_percentage ON away_team = home_team\n",
        "    WHERE win_percent_as_home > 0.0 OR win_percent_as_away > 0.0 #gets rid of teams that didn't win at all (13 rows)\n",
        "  ), percents2 as (\n",
        "    SELECT *\n",
        "    FROM percents\n",
        "  ), matchups as (\n",
        "    SELECT DISTINCT(game_id), sr.h_market as home, sr.a_market as away,\n",
        "      percents.total_win_percent as total_win_percent_home, percents2.total_win_percent as total_win_percent_away,\n",
        "      ABS(percents.total_win_percent - percents2.total_win_percent) as percent_diff, h_points_game, a_points_game\n",
        "    FROM percents, percents2, `bigquery-public-data.ncaa_basketball.mbb_games_sr` as sr\n",
        "    WHERE sr.h_market = percents.team AND sr.a_market = percents2.team\n",
        "      AND ABS(percents.total_win_percent - percents2.total_win_percent) < 5\n",
        "      AND ABS(percents.total_win_percent - percents2.total_win_percent) >= 4\n",
        "  ), even_matches AS (\n",
        "    SELECT sr.attendance, matchups.game_id, home, away, \n",
        "    total_win_percent_home, total_win_percent_away, percent_diff,\n",
        "    IF(matchups.h_points_game > matchups.a_points_game, 1, 0) as home_win, \n",
        "    scheduled_date \n",
        "    FROM `bigquery-public-data.ncaa_basketball.mbb_teams_games_sr` sr \n",
        "    JOIN matchups ON matchups.game_id = sr.game_id\n",
        "  ), final as (\n",
        "  SELECT DISTINCT(game_id), attendance, home, away,\n",
        "    total_win_percent_home, total_win_percent_away, percent_diff, home_win,\n",
        "    scheduled_date\n",
        "  FROM even_matches\n",
        "  WHERE attendance IS NOT NULL\n",
        "  )\n",
        "  SELECT home_win as label, IF(total_win_percent_home > total_win_percent_away, 1, 0) AS hometeam_stronger, \n",
        "    attendance, total_win_percent_home, total_win_percent_away, percent_diff,\n",
        "    scheduled_date\n",
        "  FROM final\n",
        "  WHERE 4.0 <= percent_diff  AND percent_diff < 5.0 #unseen data\n",
        "))\n",
        "\n",
        "LIMIT 10"
      ],
      "execution_count": null,
      "outputs": []
    },
    {
      "cell_type": "markdown",
      "metadata": {
        "id": "ofeY7XQuyhOU"
      },
      "source": [
        "---\n",
        "\n",
        "Looking at our results, we see our model with no player class and no attendance has the highest accuracy of 0.659, the model with attendance and no player class coming in second with 0.657, and the model with player class and not attendance last at 0.653. All models are pretty close to each other in terms of accuracy, which makes us believe that while attendance and player class may have some correlation to winning, there are other more statistical-oritented features that may have more of an effect on the accuracy of the models. \n",
        "\n",
        "All of the models tended to have a pretty high recall, with the model with no player class and no attended with the highest recall of 0.997. The other two models both have recalls around 0.98. This means that our model has a lot more false positives than false negatives, namely a lot more cases where we predict the home team to win although they do not. We think that a reason for this is because of the emphasis on home court advantage. Throughout our data exploration, we say that home court exploration may have the largest effect on a team's winning perentage compared to other things like color, attendance, etc. Because our models uses many specific features that depend on whether a team is home or away, despite having other features like attendance and player class, in the face of a stronger feature like home court advantage, the other metrics may not matter too much. Our models may place too much of an emphasis on whether a team is the home team or not, which could explain why there are so many false positives where the home team is favored in situations where they actually lose. \n",
        "\n",
        "Regardless, it was interesting to observe how attendance and player class could affect the predictions that our model would make. \n",
        "\n",
        "---"
      ]
    },
    {
      "cell_type": "markdown",
      "metadata": {
        "id": "Dg7Lhqi_yDcy"
      },
      "source": [
        "## Conclusion"
      ]
    },
    {
      "cell_type": "markdown",
      "metadata": {
        "id": "amGk_ak5mwTH"
      },
      "source": [
        "In our explorations, we found that some factors external to NCAA gameplay itself affect outcomes/performance, but that they do so to varying degrees and some may not do anything at all. More specifically, we analyzed the effects of team color, venue attendance, the venue location (home or away), and average class (freshman, sophomore, junior, senior, grad student) of the teams on game outcomes/performances, as well as three-pointer make percentage in relation to attendance.\n",
        " \n",
        "We found that factors like game venue have great effect on game outcomes, while factors like game attendance and average class have potential effects on game outcomes, and finally that factors like team color have little to no effect on game outcome and attendance has little to no effect on three-point make percentage.\n",
        " \n",
        "First, in regards to the game venue's effect on game outcomes, we showed that 361/362 teams won more games at home as opposed to when they were visitors. This was the first clear indication that the legend of \"home field advantage\" is likely a true one. We then dove deeper into this factor of venue by plotting winning percentage at home for all teams vs. when away and it became visible that the distributions were very different. Many more teams won over 50% of games at home while more teams lost over 50% of games away. This clear difference in distribution leads us to believe that our hypothesis of venue location affecting outcomes is likely true and the team at home is advantaged by the venue location. The correlation found between being at home and higher winning percentage can likely be attributed to things like comfortability and support of fans etc. These findings also held true when looking at matchups between evenly matched teams, which helped us isolate this variable more. However, we do recognize that home field advantage is very difficult to truly capture, since there are so many different factors like \"hotness\" (win streaks etc.) going into a game and difficulty of previous schedule etc. that we didn't account for.\n",
        " \n",
        "Next, higher game attendance was correlated to higher win percentages in all the cases we explored. We thought that this wouldn't be the case for visiting teams that visit packed home arenas of fans booing them. However, our analysis doesn't completely isolate, even in our \"even matchups\", the fact that teams with higher win percentages will likely attract larger crowds since they are bigger. It's likely that this fact overruled the factor of home team heckling of the visiting team. All in all, we still found that home teams had a stronger correlation to higher winning percentage when they averaged more home attendance. We hypothesize that this goes back to home team advantage, and is because these home teams get extra support from fans and have a sense of pride at home/comfort, giving them an edge.\n",
        " \n",
        "As for average class, younger teams were correlated with higher win percentages. One might think that this contradicts \"practice makes perfect\" and the fact that people often improve with experience, but often the best players in the NCAA are freshman phenoms. Again, this was a non-gametime statistic that potentially had some effect on outcomes. Again, our analysis could be skewed by the fact that teams that are better have a higher chance of attracting freshman talent and get younger this way.\n",
        " \n",
        "Finally, team color did not affect outcomes significantly, despite studies showing that red is advantageous. This is likely because those studies were flawed or perhaps this is just inconclusive for this particular dataset, but it appears wearing red doesn't make a team better, even when evenly matched.\n",
        " \n",
        "It also turns out that three-pointers made percentage isn't correlated with crowd size significantly. This was surprising to us.\n",
        " \n",
        "Ultimately, we found that there are a handful of factors external to gametime statistics that affect outcomes/performances of NCAA games, but we can only hypothesize about the reasons why. These factors have different weights and some likely don't matter at all. More research is needed to uncover and isolate the effects of complex features like home team advantage etc. After all, there's a reason the NBA hires whole teams of people to do these computations. \n",
        " \n"
      ]
    }
  ]
}